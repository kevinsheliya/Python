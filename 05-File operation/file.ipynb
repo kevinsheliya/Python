{
 "cells": [
  {
   "cell_type": "code",
   "execution_count": 3,
   "metadata": {},
   "outputs": [
    {
     "name": "stdout",
     "output_type": "stream",
     "text": [
      "hello how are you today \n",
      "welcome file content print\n",
      "\n"
     ]
    }
   ],
   "source": [
    "with open('example.txt','r') as file:\n",
    "    content=file.read()\n",
    "    print(content)"
   ]
  },
  {
   "cell_type": "code",
   "execution_count": 5,
   "metadata": {},
   "outputs": [
    {
     "name": "stdout",
     "output_type": "stream",
     "text": [
      "hello how are you today\n",
      "welcome file content print\n"
     ]
    }
   ],
   "source": [
    "#print line by line\n",
    " \n",
    "with open('example.txt','r') as file:\n",
    "    for line in file:\n",
    "        print(line.strip()) # strip() removing new line character "
   ]
  },
  {
   "cell_type": "code",
   "execution_count": 6,
   "metadata": {},
   "outputs": [],
   "source": [
    "# overwritding\n",
    "with open('example.txt','w') as file:\n",
    "    file.write(\"heloo today \\n\") \n",
    "    file.write(\"how old you \\n\")"
   ]
  },
  {
   "cell_type": "code",
   "execution_count": 7,
   "metadata": {},
   "outputs": [],
   "source": [
    "#without overwriting\n",
    "with open('example.txt','a') as file:\n",
    "    file.write(\"new line print \\n\")"
   ]
  },
  {
   "cell_type": "code",
   "execution_count": 8,
   "metadata": {},
   "outputs": [],
   "source": [
    "list1=['first word\\n','second word \\n','third word\\n']\n",
    "with open('example.txt','a') as file:\n",
    "    file.writelines(list1)"
   ]
  },
  {
   "cell_type": "code",
   "execution_count": 9,
   "metadata": {},
   "outputs": [],
   "source": [
    "# Binary file\n",
    "date=b'\\x00\\x01\\x02\\x04'\n",
    "with open('binary.bin','wb') as file:\n",
    "    file.write(date)"
   ]
  },
  {
   "cell_type": "code",
   "execution_count": 11,
   "metadata": {},
   "outputs": [
    {
     "name": "stdout",
     "output_type": "stream",
     "text": [
      "b'\\x00\\x01\\x02\\x04'\n"
     ]
    }
   ],
   "source": [
    "with open('binary.bin','rb') as file:\n",
    "    content=file.read()\n",
    "    print(content)"
   ]
  },
  {
   "cell_type": "code",
   "execution_count": 13,
   "metadata": {},
   "outputs": [],
   "source": [
    "#read one file and print to anthor file\n",
    "with open('example.txt','r') as file1:\n",
    "    content=file1.read()\n",
    "\n",
    "with open('distination.txt','w') as file:\n",
    "    file.write(content)    \n"
   ]
  },
  {
   "cell_type": "code",
   "execution_count": 15,
   "metadata": {},
   "outputs": [
    {
     "name": "stdout",
     "output_type": "stream",
     "text": [
      "lines=6, words=14 ,characters=162\n"
     ]
    }
   ],
   "source": [
    "# file in how many lines ,character ,words\n",
    "\n",
    "def count_file(file_path):\n",
    "    with open('example.txt','r') as file:\n",
    "        lines=file.readlines()\n",
    "        line_count=len(lines) \n",
    "        word_count=sum(len(line.split()) for line in lines)\n",
    "        char_count=sum(len(line) for ine in lines)\n",
    "    return line_count,word_count,char_count \n",
    "\n",
    "file_path='example.txt'\n",
    "line,words,character =count_file(file_path)\n",
    "print(f\"lines={line}, words={words} ,characters={character}\")          \n"
   ]
  },
  {
   "cell_type": "code",
   "execution_count": 19,
   "metadata": {},
   "outputs": [
    {
     "name": "stdout",
     "output_type": "stream",
     "text": [
      "hello word \n",
      "new line added \n",
      "\n"
     ]
    }
   ],
   "source": [
    "with open('example.txt','w+') as file:\n",
    "    file.write('hello word \\n')\n",
    "    file.write('new line added \\n')\n",
    "\n",
    "    # move to cursor to beging\n",
    "    file.seek(0)\n",
    "\n",
    "    #read the file\n",
    "    content=file.read()\n",
    "    print(content)"
   ]
  },
  {
   "cell_type": "code",
   "execution_count": null,
   "metadata": {},
   "outputs": [],
   "source": []
  }
 ],
 "metadata": {
  "kernelspec": {
   "display_name": "Python 3",
   "language": "python",
   "name": "python3"
  },
  "language_info": {
   "codemirror_mode": {
    "name": "ipython",
    "version": 3
   },
   "file_extension": ".py",
   "mimetype": "text/x-python",
   "name": "python",
   "nbconvert_exporter": "python",
   "pygments_lexer": "ipython3",
   "version": "3.12.0"
  }
 },
 "nbformat": 4,
 "nbformat_minor": 2
}
