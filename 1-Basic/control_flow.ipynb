{
 "cells": [
  {
   "cell_type": "code",
   "execution_count": 2,
   "metadata": {},
   "outputs": [
    {
     "name": "stdout",
     "output_type": "stream",
     "text": [
      "please enter vaild operation \n"
     ]
    }
   ],
   "source": [
    "#simpal calculaters\n",
    "\n",
    "n1=int(input(\"enter first number\"))\n",
    "n2=int(input(\"enter second number\"))\n",
    "operation  = input(\"enter the perform  + , - , / , *  \")\n",
    "\n",
    "if operation=='+':\n",
    "    print(\"addition  = \",n1+n2)\n",
    "elif operation=='-':\n",
    "    print(\"subtracter  =\",n1-n2)\n",
    "elif operation=='*':\n",
    "    print(\"multiplication = \",n1*n2)\n",
    "elif operation=='/':\n",
    "    if n2!=0:\n",
    "        print(\"division = \",n1/n2)\n",
    "    else:\n",
    "        print(\"not performs \")\n",
    "else: \n",
    "    print(\"please enter vaild operation \")\n",
    "\n",
    "\n",
    "\n"
   ]
  }
 ],
 "metadata": {
  "kernelspec": {
   "display_name": "Python 3",
   "language": "python",
   "name": "python3"
  },
  "language_info": {
   "codemirror_mode": {
    "name": "ipython",
    "version": 3
   },
   "file_extension": ".py",
   "mimetype": "text/x-python",
   "name": "python",
   "nbconvert_exporter": "python",
   "pygments_lexer": "ipython3",
   "version": "3.12.0"
  }
 },
 "nbformat": 4,
 "nbformat_minor": 2
}
