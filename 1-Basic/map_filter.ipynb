{
 "cells": [
  {
   "cell_type": "code",
   "execution_count": 1,
   "metadata": {},
   "outputs": [
    {
     "name": "stdout",
     "output_type": "stream",
     "text": [
      "[1, 4, 9, 16, 25, 36, 49]\n"
     ]
    }
   ],
   "source": [
    "def square(num):\n",
    "    return num*num\n",
    "\n",
    "num=[1,2,3,4,5,6,7]\n",
    "sqr_num=list(map(square,num))\n",
    "print(sqr_num)"
   ]
  },
  {
   "cell_type": "code",
   "execution_count": 5,
   "metadata": {},
   "outputs": [
    {
     "name": "stdout",
     "output_type": "stream",
     "text": [
      "[1, 4, 9, 16, 25, 36, 49, 64, 81]\n"
     ]
    }
   ],
   "source": [
    "#using lamnba function with map\n",
    "num=[1,2,3,4,5,6,7,8,9]\n",
    "list1=list(map(lambda x:x*x,num))\n",
    "print(list1)"
   ]
  },
  {
   "cell_type": "code",
   "execution_count": 6,
   "metadata": {},
   "outputs": [
    {
     "name": "stdout",
     "output_type": "stream",
     "text": [
      "[7, 9, 11, 13, 5]\n"
     ]
    }
   ],
   "source": [
    "#using multipal interables\n",
    "num1=[1,2,3,4,5]\n",
    "num2=[6,7,8,9,0]\n",
    "\n",
    "addition=list(map(lambda x,y:x+y,num1,num2))\n",
    "print(addition)"
   ]
  },
  {
   "cell_type": "code",
   "execution_count": 9,
   "metadata": {},
   "outputs": [
    {
     "name": "stdout",
     "output_type": "stream",
     "text": [
      "[1, 2, 3, 4, 5]\n"
     ]
    }
   ],
   "source": [
    "#convert charater to intergers\n",
    "list1=['1','2','3','4','5']\n",
    "\n",
    "numbers=list(map(int,list1))\n",
    "print(numbers)\n",
    "\n"
   ]
  },
  {
   "cell_type": "code",
   "execution_count": 10,
   "metadata": {},
   "outputs": [
    {
     "name": "stdout",
     "output_type": "stream",
     "text": [
      "['BANANA', 'ORANGE', 'KIWI']\n"
     ]
    }
   ],
   "source": [
    "#covert upper case \n",
    "\n",
    "lower1=[\"banana\",\"orange\",\"kiwi\"]\n",
    "\n",
    "upper1=list(map(str.upper,lower1))\n",
    "print(upper1)"
   ]
  },
  {
   "cell_type": "markdown",
   "metadata": {},
   "source": [
    "FILTER FUNCTION "
   ]
  },
  {
   "cell_type": "code",
   "execution_count": 2,
   "metadata": {},
   "outputs": [
    {
     "data": {
      "text/plain": [
       "[2, 4, 6, 4, 8]"
      ]
     },
     "execution_count": 2,
     "metadata": {},
     "output_type": "execute_result"
    }
   ],
   "source": [
    "def even(num):\n",
    "    return num%2==0\n",
    "\n",
    "num1=[1,2,3,4,5,6,4,7,8]\n",
    "\n",
    "list(filter(even,num1))"
   ]
  },
  {
   "cell_type": "code",
   "execution_count": 15,
   "metadata": {},
   "outputs": [
    {
     "name": "stdout",
     "output_type": "stream",
     "text": [
      "[19, 22, 20, 45, 70]\n"
     ]
    }
   ],
   "source": [
    "#using lambda function \n",
    "\n",
    "age=[18,19,15,7,11,22,15,20,3,45,70]\n",
    "\n",
    "valid_age=list(filter(lambda x:x>18,age))\n",
    "print(valid_age)\n"
   ]
  },
  {
   "cell_type": "code",
   "execution_count": 16,
   "metadata": {},
   "outputs": [
    {
     "name": "stdout",
     "output_type": "stream",
     "text": [
      "[22, 20, 70]\n"
     ]
    }
   ],
   "source": [
    "valid_age=list(filter(lambda x:x>18 and x%2==0,age))\n",
    "print(valid_age)\n"
   ]
  },
  {
   "cell_type": "code",
   "execution_count": null,
   "metadata": {},
   "outputs": [],
   "source": []
  }
 ],
 "metadata": {
  "kernelspec": {
   "display_name": "Python 3",
   "language": "python",
   "name": "python3"
  },
  "language_info": {
   "codemirror_mode": {
    "name": "ipython",
    "version": 3
   },
   "file_extension": ".py",
   "mimetype": "text/x-python",
   "name": "python",
   "nbconvert_exporter": "python",
   "pygments_lexer": "ipython3",
   "version": "3.12.0"
  }
 },
 "nbformat": 4,
 "nbformat_minor": 2
}
