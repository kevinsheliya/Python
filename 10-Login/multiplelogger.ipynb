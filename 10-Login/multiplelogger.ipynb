{
 "cells": [
  {
   "cell_type": "code",
   "execution_count": 1,
   "metadata": {},
   "outputs": [],
   "source": [
    "import logging\n",
    "\n",
    "# create module 1 abd 2\n",
    "logger1=logging.getLogger(\"module 1\")\n",
    "logger1.setLevel(logging.DEBUG)\n",
    "\n",
    "# 2\n",
    "logger2=logging.getLogger(\"module 2\")\n",
    "logger2.setLevel(logging.WARNING)\n",
    "\n",
    "#configure logging\n",
    "\n",
    "logging.basicConfig(\n",
    "    #filename='app.log',\n",
    "    #filemode='w',\n",
    "    level=logging.DEBUG,\n",
    "    format='%(asctime)s-%(name)s-%(levelname)s-%(message)s',\n",
    "    datefmt='%Y-%m-%d %H:%M:%S'\n",
    " )"
   ]
  },
  {
   "cell_type": "code",
   "execution_count": 2,
   "metadata": {},
   "outputs": [
    {
     "name": "stderr",
     "output_type": "stream",
     "text": [
      "2024-12-25 17:43:11-module 1-DEBUG-debag message for module 1\n",
      "2024-12-25 17:43:11-module 2-WARNING-warning message for module 2\n",
      "2024-12-25 17:43:11-module 2-ERROR-error message for module 2\n"
     ]
    }
   ],
   "source": [
    "logger1.debug(\"debag message for module 1\")\n",
    "logger2.warning(\"warning message for module 2\")\n",
    "logger2.error(\"error message for module 2\")"
   ]
  },
  {
   "cell_type": "code",
   "execution_count": null,
   "metadata": {},
   "outputs": [],
   "source": []
  }
 ],
 "metadata": {
  "kernelspec": {
   "display_name": "Python 3",
   "language": "python",
   "name": "python3"
  },
  "language_info": {
   "codemirror_mode": {
    "name": "ipython",
    "version": 3
   },
   "file_extension": ".py",
   "mimetype": "text/x-python",
   "name": "python",
   "nbconvert_exporter": "python",
   "pygments_lexer": "ipython3",
   "version": "3.13.1"
  }
 },
 "nbformat": 4,
 "nbformat_minor": 2
}
