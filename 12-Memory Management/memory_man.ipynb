{
 "cells": [
  {
   "cell_type": "code",
   "execution_count": 1,
   "metadata": {},
   "outputs": [
    {
     "name": "stdout",
     "output_type": "stream",
     "text": [
      "2\n"
     ]
    }
   ],
   "source": [
    "import sys\n",
    "\n",
    "a=[]\n",
    "# one come 'a' and anthor come from getrefcount()\n",
    "print(sys.getrefcount(a))"
   ]
  },
  {
   "cell_type": "code",
   "execution_count": 2,
   "metadata": {},
   "outputs": [
    {
     "name": "stdout",
     "output_type": "stream",
     "text": [
      "3\n"
     ]
    }
   ],
   "source": [
    "b=a\n",
    "print(sys.getrefcount(b))"
   ]
  },
  {
   "cell_type": "code",
   "execution_count": 3,
   "metadata": {},
   "outputs": [
    {
     "name": "stdout",
     "output_type": "stream",
     "text": [
      "2\n"
     ]
    }
   ],
   "source": [
    "del b\n",
    "print(sys.getrefcount(a))"
   ]
  },
  {
   "cell_type": "code",
   "execution_count": 4,
   "metadata": {},
   "outputs": [],
   "source": [
    "## GARBAGE COLLECTION\n",
    "import gc\n",
    "gc.enable()"
   ]
  },
  {
   "cell_type": "code",
   "execution_count": 5,
   "metadata": {},
   "outputs": [],
   "source": [
    "gc.disable()"
   ]
  },
  {
   "cell_type": "code",
   "execution_count": 6,
   "metadata": {},
   "outputs": [
    {
     "data": {
      "text/plain": [
       "225"
      ]
     },
     "execution_count": 6,
     "metadata": {},
     "output_type": "execute_result"
    }
   ],
   "source": [
    "gc.collect()"
   ]
  },
  {
   "cell_type": "code",
   "execution_count": 7,
   "metadata": {},
   "outputs": [
    {
     "name": "stdout",
     "output_type": "stream",
     "text": [
      "[{'collections': 65, 'collected': 1713, 'uncollectable': 0}, {'collections': 5, 'collected': 88, 'uncollectable': 0}, {'collections': 1, 'collected': 225, 'uncollectable': 0}]\n"
     ]
    }
   ],
   "source": [
    "# Get garbage collection stats\n",
    "print(gc.get_stats())"
   ]
  },
  {
   "cell_type": "code",
   "execution_count": 8,
   "metadata": {},
   "outputs": [
    {
     "name": "stdout",
     "output_type": "stream",
     "text": [
      "[]\n"
     ]
    }
   ],
   "source": [
    "# get unreachable objects\n",
    "print(gc.garbage)"
   ]
  },
  {
   "cell_type": "code",
   "execution_count": 21,
   "metadata": {},
   "outputs": [
    {
     "name": "stdout",
     "output_type": "stream",
     "text": [
      "Object john created\n",
      "Object wick created\n",
      "Object john deleted\n",
      "Object wick deleted\n"
     ]
    },
    {
     "data": {
      "text/plain": [
       "214"
      ]
     },
     "execution_count": 21,
     "metadata": {},
     "output_type": "execute_result"
    }
   ],
   "source": [
    "class Myobject:\n",
    "    def __init__(self,name):\n",
    "        self.name=name\n",
    "        print(f\"Object {self.name} created\")\n",
    "\n",
    "    def __del__(self):\n",
    "        print(f\"Object {self.name} deleted\")\n",
    "\n",
    "obj1=Myobject(\"john\")\n",
    "obj2=Myobject(\"wick\")\n",
    "obj1.ref=obj2\n",
    "obj2.ref=obj1\n",
    "\n",
    "del obj1\n",
    "del obj2\n",
    "\n",
    "# manually trigger garbagr collection\n",
    "gc.collect()\n"
   ]
  },
  {
   "cell_type": "code",
   "execution_count": 14,
   "metadata": {},
   "outputs": [
    {
     "name": "stdout",
     "output_type": "stream",
     "text": [
      "0\n",
      "1\n",
      "2\n",
      "3\n",
      "4\n",
      "5\n",
      "6\n",
      "7\n",
      "8\n",
      "9\n",
      "10\n",
      "11\n"
     ]
    }
   ],
   "source": [
    "# genrators for memory efficiency\n",
    "\n",
    "def generate_num(n):\n",
    "    for i in range(n):\n",
    "        yield i\n",
    "\n",
    "for num in generate_num(1000):\n",
    "    print(num)\n",
    "    if num>10:\n",
    "        break\n",
    "\n"
   ]
  },
  {
   "cell_type": "code",
   "execution_count": 19,
   "metadata": {},
   "outputs": [],
   "source": [
    "# memory tracemelloc\n",
    "\n",
    "import tracemalloc\n",
    "\n",
    "def create_list():\n",
    "    return [i for i in range(100)]\n",
    "\n",
    "def main():\n",
    "    tracemalloc.start()\n",
    "\n",
    "    create_list()\n",
    "    snapshot=tracemalloc.take_snapshot()\n",
    "    top_start=snapshot.statistics('lineno')\n",
    "\n",
    "    print(\"[top 10]\")\n",
    "    for stat in top_start[:10]:\n",
    "        print(stat)\n",
    "\n"
   ]
  },
  {
   "cell_type": "code",
   "execution_count": 20,
   "metadata": {},
   "outputs": [
    {
     "name": "stdout",
     "output_type": "stream",
     "text": [
      "[top 10]\n",
      "c:\\Program Files\\Python313\\Lib\\tracemalloc.py:193: size=5712 B, count=119, average=48 B\n",
      "C:\\Users\\D E L L\\AppData\\Roaming\\Python\\Python313\\site-packages\\IPython\\core\\compilerop.py:174: size=4054 B, count=48, average=84 B\n",
      "c:\\Program Files\\Python313\\Lib\\json\\decoder.py:361: size=3187 B, count=47, average=68 B\n",
      "c:\\Program Files\\Python313\\Lib\\codeop.py:118: size=2646 B, count=32, average=83 B\n",
      "C:\\Users\\D E L L\\AppData\\Roaming\\Python\\Python313\\site-packages\\traitlets\\traitlets.py:731: size=2371 B, count=38, average=62 B\n",
      "C:\\Users\\D E L L\\AppData\\Roaming\\Python\\Python313\\site-packages\\zmq\\sugar\\attrsettr.py:45: size=2350 B, count=50, average=47 B\n",
      "C:\\Users\\D E L L\\AppData\\Roaming\\Python\\Python313\\site-packages\\traitlets\\traitlets.py:1543: size=2067 B, count=34, average=61 B\n",
      "C:\\Users\\D E L L\\AppData\\Roaming\\Python\\Python313\\site-packages\\jupyter_client\\jsonutil.py:111: size=1850 B, count=37, average=50 B\n",
      "C:\\Users\\D E L L\\AppData\\Roaming\\Python\\Python313\\site-packages\\traitlets\\traitlets.py:1514: size=1560 B, count=13, average=120 B\n",
      "C:\\Users\\D E L L\\AppData\\Roaming\\Python\\Python313\\site-packages\\IPython\\core\\interactiveshell.py:1592: size=1520 B, count=1, average=1520 B\n"
     ]
    }
   ],
   "source": [
    "main()"
   ]
  },
  {
   "cell_type": "code",
   "execution_count": null,
   "metadata": {},
   "outputs": [],
   "source": []
  }
 ],
 "metadata": {
  "kernelspec": {
   "display_name": "Python 3",
   "language": "python",
   "name": "python3"
  },
  "language_info": {
   "codemirror_mode": {
    "name": "ipython",
    "version": 3
   },
   "file_extension": ".py",
   "mimetype": "text/x-python",
   "name": "python",
   "nbconvert_exporter": "python",
   "pygments_lexer": "ipython3",
   "version": "3.13.1"
  }
 },
 "nbformat": 4,
 "nbformat_minor": 2
}
