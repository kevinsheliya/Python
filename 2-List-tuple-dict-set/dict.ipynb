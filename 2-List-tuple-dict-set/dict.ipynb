{
 "cells": [
  {
   "cell_type": "code",
   "execution_count": 16,
   "metadata": {},
   "outputs": [
    {
     "name": "stdout",
     "output_type": "stream",
     "text": [
      "<class 'dict'>\n",
      "<class 'dict'>\n"
     ]
    }
   ],
   "source": [
    "dict1={}\n",
    "print(type(dict1))\n",
    "\n",
    "dict2=dict()\n",
    "print(type(dict2))"
   ]
  },
  {
   "cell_type": "code",
   "execution_count": 17,
   "metadata": {},
   "outputs": [
    {
     "name": "stdout",
     "output_type": "stream",
     "text": [
      "{'name': 'kevin', 'age': 18, 'sub': 'b.sc it'}\n"
     ]
    }
   ],
   "source": [
    "stud={\"name\":\"kevin\",\"age\":18,\"sub\":\"b.sc it\"}\n",
    "print(stud)"
   ]
  },
  {
   "cell_type": "code",
   "execution_count": 18,
   "metadata": {},
   "outputs": [
    {
     "name": "stdout",
     "output_type": "stream",
     "text": [
      "kevin\n",
      "18\n",
      "\n",
      "18\n",
      "None\n",
      "not available\n"
     ]
    }
   ],
   "source": [
    "#accessing element\n",
    "print(stud[\"name\"])\n",
    "print(stud[\"age\"])\n",
    "#print(stud[\"last_name\"])\n",
    "print()\n",
    "\n",
    "#accessing with get method\n",
    "print(stud.get(\"age\"))\n",
    "print(stud.get(\"last_name\"))\n",
    "print(stud.get(\"last_name\",\"not available\")) "
   ]
  },
  {
   "cell_type": "code",
   "execution_count": 19,
   "metadata": {},
   "outputs": [
    {
     "data": {
      "text/plain": [
       "{'name': 'kevin', 'age': 18, 'sub': 'b.sc it'}"
      ]
     },
     "execution_count": 19,
     "metadata": {},
     "output_type": "execute_result"
    }
   ],
   "source": [
    "stud"
   ]
  },
  {
   "cell_type": "code",
   "execution_count": 20,
   "metadata": {},
   "outputs": [
    {
     "name": "stdout",
     "output_type": "stream",
     "text": [
      "{'name': 'kevin1', 'age': 18, 'sub': 'b.sc it'}\n",
      "{'name': 'kevin1', 'age': 18, 'sub': 'b.sc it', 'grade': 'a1'}\n"
     ]
    }
   ],
   "source": [
    "stud[\"name\"]=\"kevin1\"\n",
    "print(stud)\n",
    "\n",
    "#adding key with value\n",
    "stud[\"grade\"]=\"a1\"\n",
    "print(stud)"
   ]
  },
  {
   "cell_type": "code",
   "execution_count": 21,
   "metadata": {},
   "outputs": [],
   "source": [
    "del stud[\"sub\"]"
   ]
  },
  {
   "cell_type": "code",
   "execution_count": 22,
   "metadata": {},
   "outputs": [
    {
     "name": "stdout",
     "output_type": "stream",
     "text": [
      "{'name': 'kevin1', 'age': 18, 'grade': 'a1'}\n"
     ]
    }
   ],
   "source": [
    "print(stud)"
   ]
  },
  {
   "cell_type": "code",
   "execution_count": 25,
   "metadata": {},
   "outputs": [
    {
     "name": "stdout",
     "output_type": "stream",
     "text": [
      "dict_keys(['name', 'age', 'grade'])\n",
      "dict_values(['kevin1', 18, 'a1'])\n",
      "dict_items([('name', 'kevin1'), ('age', 18), ('grade', 'a1')])\n"
     ]
    }
   ],
   "source": [
    "keys=stud.keys()\n",
    "print(keys)\n",
    "\n",
    "values=stud.values()\n",
    "print(values)\n",
    "\n",
    "items=stud.items()\n",
    "print(items)"
   ]
  },
  {
   "cell_type": "code",
   "execution_count": 26,
   "metadata": {},
   "outputs": [
    {
     "name": "stdout",
     "output_type": "stream",
     "text": [
      "{'name': 'kevin1', 'age': 18, 'grade': 'a1'}\n",
      "{'name': 'kevin1', 'age': 18, 'grade': 'a1'}\n",
      "\n",
      "{'name': 'kevin', 'age': 18, 'grade': 'a1'}\n",
      "{'name': 'kevin', 'age': 18, 'grade': 'a1'}\n"
     ]
    }
   ],
   "source": [
    "## shallow copy here not perform\n",
    "stud_copy=stud\n",
    "print(stud)\n",
    "print(stud_copy)\n",
    "print()\n",
    "\n",
    "stud['name']=\"kevin\"\n",
    "print(stud)\n",
    "print(stud_copy)"
   ]
  },
  {
   "cell_type": "code",
   "execution_count": 27,
   "metadata": {},
   "outputs": [
    {
     "data": {
      "text/plain": [
       "{'name': 'kevin', 'age': 18, 'grade': 'a1'}"
      ]
     },
     "execution_count": 27,
     "metadata": {},
     "output_type": "execute_result"
    }
   ],
   "source": [
    "#shollow copy\n",
    "stud"
   ]
  },
  {
   "cell_type": "code",
   "execution_count": 28,
   "metadata": {},
   "outputs": [
    {
     "name": "stdout",
     "output_type": "stream",
     "text": [
      "{'name': 'kevin', 'age': 18, 'grade': 'a1'}\n",
      "{'name': 'kevin', 'age': 18, 'grade': 'a1'}\n",
      "\n",
      "{'name': 'kevin 2', 'age': 18, 'grade': 'a1'}\n",
      "{'name': 'kevin', 'age': 18, 'grade': 'a1'}\n"
     ]
    }
   ],
   "source": [
    "stud_copy=stud.copy()\n",
    "print(stud)\n",
    "print(stud_copy)\n",
    "print()\n",
    "\n",
    "stud[\"name\"]=\"kevin 2\"\n",
    "print(stud)\n",
    "print(stud_copy)"
   ]
  },
  {
   "cell_type": "code",
   "execution_count": 29,
   "metadata": {},
   "outputs": [
    {
     "name": "stdout",
     "output_type": "stream",
     "text": [
      "name\n",
      "age\n",
      "grade\n",
      "\n",
      "kevin 2\n",
      "18\n",
      "a1\n",
      "\n",
      "name : kevin 2\n",
      "age : 18\n",
      "grade : a1\n"
     ]
    }
   ],
   "source": [
    "for key in stud.keys():\n",
    "    print(key)\n",
    "print()\n",
    "\n",
    "for value in stud.values():\n",
    "    print(value)\n",
    "print()\n",
    "\n",
    "for key,value in stud.items():\n",
    "    print(f\"{key} : {value}\")\n"
   ]
  },
  {
   "cell_type": "code",
   "execution_count": 30,
   "metadata": {},
   "outputs": [
    {
     "name": "stdout",
     "output_type": "stream",
     "text": [
      "{'student1': {'name': 'kevin', 'age': 18}, 'student2': {'name': 'kashyap', 'age': 19}}\n"
     ]
    }
   ],
   "source": [
    "std={\n",
    "    \"student1\":{\"name\":\"kevin\",\"age\":18},\n",
    "    \"student2\":{\"name\":\"kashyap\",\"age\":19}\n",
    "}\n",
    "print(std)"
   ]
  },
  {
   "cell_type": "code",
   "execution_count": 33,
   "metadata": {},
   "outputs": [
    {
     "name": "stdout",
     "output_type": "stream",
     "text": [
      "kevin\n",
      "19\n"
     ]
    }
   ],
   "source": [
    "print(std[\"student1\"][\"name\"])\n",
    "print(std[\"student2\"][\"age\"])"
   ]
  },
  {
   "cell_type": "code",
   "execution_count": 34,
   "metadata": {},
   "outputs": [
    {
     "data": {
      "text/plain": [
       "{'student1': {'name': 'kevin', 'age': 18},\n",
       " 'student2': {'name': 'kashyap', 'age': 19}}"
      ]
     },
     "execution_count": 34,
     "metadata": {},
     "output_type": "execute_result"
    }
   ],
   "source": [
    "std"
   ]
  },
  {
   "cell_type": "code",
   "execution_count": 36,
   "metadata": {},
   "outputs": [
    {
     "name": "stdout",
     "output_type": "stream",
     "text": [
      "student1 : {'name': 'kevin', 'age': 18}\n",
      "name : kevin\n",
      "age : 18\n",
      "student2 : {'name': 'kashyap', 'age': 19}\n",
      "name : kashyap\n",
      "age : 19\n"
     ]
    }
   ],
   "source": [
    "for s_id,s_info in std.items():\n",
    "    print(f\"{s_id} : {s_info}\")\n",
    "    for key,value in s_info.items():\n",
    "        print(f\"{key} : {value}\")\n"
   ]
  },
  {
   "cell_type": "code",
   "execution_count": 37,
   "metadata": {},
   "outputs": [
    {
     "name": "stdout",
     "output_type": "stream",
     "text": [
      "{2: 4, 4: 16, 6: 36, 8: 64, 10: 100}\n"
     ]
    }
   ],
   "source": [
    "even={n:n**2 for n in range(1,11) if n%2==0}\n",
    "print(even)"
   ]
  },
  {
   "cell_type": "code",
   "execution_count": 3,
   "metadata": {},
   "outputs": [
    {
     "name": "stdout",
     "output_type": "stream",
     "text": [
      "{1: 1, 2: 2, 3: 4, 4: 4, 5: 3}\n"
     ]
    }
   ],
   "source": [
    "num1=[1,2,2,3,3,3,3,4,4,4,4,5,5,5]\n",
    "dic={}\n",
    "\n",
    "for n1 in num1:\n",
    "    if n1 in num1:\n",
    "        dic[n1] = dic.get(n1, 0) + 1 \n",
    "    else:\n",
    "        dic[n1]=1\n",
    "print(dic)        \n",
    "\n",
    "\n"
   ]
  },
  {
   "cell_type": "code",
   "execution_count": null,
   "metadata": {},
   "outputs": [],
   "source": []
  }
 ],
 "metadata": {
  "kernelspec": {
   "display_name": "Python 3",
   "language": "python",
   "name": "python3"
  },
  "language_info": {
   "codemirror_mode": {
    "name": "ipython",
    "version": 3
   },
   "file_extension": ".py",
   "mimetype": "text/x-python",
   "name": "python",
   "nbconvert_exporter": "python",
   "pygments_lexer": "ipython3",
   "version": "3.12.0"
  }
 },
 "nbformat": 4,
 "nbformat_minor": 2
}
