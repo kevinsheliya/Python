{
 "cells": [
  {
   "cell_type": "code",
   "execution_count": 1,
   "metadata": {},
   "outputs": [
    {
     "name": "stdout",
     "output_type": "stream",
     "text": [
      "[1, 2, 3, 4, 5, 6, 7, 8, 9, 10, 11, 12, 13, 14, 15, 16, 17, 18, 19, 20]\n"
     ]
    }
   ],
   "source": [
    "lst = list(range(1,21))\n",
    "print(lst)"
   ]
  },
  {
   "cell_type": "code",
   "execution_count": 3,
   "metadata": {},
   "outputs": [
    {
     "name": "stdout",
     "output_type": "stream",
     "text": [
      "first element : 1\n",
      "middle element : 11\n",
      "last element : 20\n"
     ]
    }
   ],
   "source": [
    "print(f\"first element : {lst[0]}\")\n",
    "print(f\"middle element : {lst[len(lst)//2]}\")\n",
    "print(f\"last element : {lst[-1]}\")"
   ]
  },
  {
   "cell_type": "code",
   "execution_count": 9,
   "metadata": {},
   "outputs": [
    {
     "name": "stdout",
     "output_type": "stream",
     "text": [
      "first 5 element :[1, 2, 3, 4, 5]\n",
      "last 5 element :[16, 17, 18, 19, 20]\n",
      "middle 6 10 14 :[6, 7, 8, 9, 10, 11, 12, 13, 14, 15, 16]\n"
     ]
    }
   ],
   "source": [
    "print(f\"first 5 element :{lst[:5]}\")\n",
    "print(f\"last 5 element :{lst[-5:]}\")\n",
    "print(f\"middle 6 10 14 :{lst[5:16]}\")"
   ]
  },
  {
   "cell_type": "code",
   "execution_count": 12,
   "metadata": {},
   "outputs": [
    {
     "name": "stdout",
     "output_type": "stream",
     "text": [
      "[1, 4, 9, 16, 25, 36, 49, 64, 81, 100]\n"
     ]
    }
   ],
   "source": [
    "lst1=[num**2 for num in range(1,11)]\n",
    "print(lst1)"
   ]
  },
  {
   "cell_type": "code",
   "execution_count": 13,
   "metadata": {},
   "outputs": [
    {
     "name": "stdout",
     "output_type": "stream",
     "text": [
      "[2, 4, 6, 8, 10, 12, 14, 16, 18, 20]\n"
     ]
    }
   ],
   "source": [
    "even=[x for x in lst if x%2==0]\n",
    "print(even)"
   ]
  },
  {
   "cell_type": "code",
   "execution_count": 23,
   "metadata": {},
   "outputs": [
    {
     "name": "stdout",
     "output_type": "stream",
     "text": [
      "[3, 18, 7, 2, 4, 4, 13, 6, 1, 7, 1, 10, 1, 4, 1]\n",
      "[1, 1, 1, 1, 2, 3, 4, 4, 4, 6, 7, 7, 10, 13, 18]\n",
      "[18, 13, 10, 7, 7, 6, 4, 4, 4, 3, 2, 1, 1, 1, 1]\n"
     ]
    }
   ],
   "source": [
    "import random\n",
    "random_list=[random.randint(1,20) for _ in range(15)]\n",
    "print(random_list)\n",
    "\n",
    "sorting=sorted(random_list)\n",
    "print(sorting)\n",
    "\n",
    "revesing=sorted(random_list,reverse=True)\n",
    "print(revesing)"
   ]
  },
  {
   "cell_type": "code",
   "execution_count": null,
   "metadata": {},
   "outputs": [],
   "source": []
  },
  {
   "cell_type": "code",
   "execution_count": null,
   "metadata": {},
   "outputs": [],
   "source": []
  }
 ],
 "metadata": {
  "kernelspec": {
   "display_name": "Python 3",
   "language": "python",
   "name": "python3"
  },
  "language_info": {
   "codemirror_mode": {
    "name": "ipython",
    "version": 3
   },
   "file_extension": ".py",
   "mimetype": "text/x-python",
   "name": "python",
   "nbconvert_exporter": "python",
   "pygments_lexer": "ipython3",
   "version": "3.12.0"
  }
 },
 "nbformat": 4,
 "nbformat_minor": 2
}
