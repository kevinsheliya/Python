{
 "cells": [
  {
   "cell_type": "markdown",
   "metadata": {},
   "source": [
    "Fibonacii number:"
   ]
  },
  {
   "cell_type": "code",
   "execution_count": 5,
   "metadata": {},
   "outputs": [
    {
     "name": "stdout",
     "output_type": "stream",
     "text": [
      "55\n"
     ]
    }
   ],
   "source": [
    "def fibonacci(num):\n",
    "    a=0\n",
    "    b=1\n",
    "    if num==0:\n",
    "        return 0\n",
    "    elif num==1:\n",
    "        return 1\n",
    "    else:\n",
    "        for i in range(2,num+1):\n",
    "            c=a+b\n",
    "            a=b\n",
    "            b=c\n",
    "        return b       \n",
    "\n",
    "print(fibonacci(10))        "
   ]
  },
  {
   "cell_type": "code",
   "execution_count": 7,
   "metadata": {},
   "outputs": [
    {
     "name": "stdout",
     "output_type": "stream",
     "text": [
      "55\n"
     ]
    }
   ],
   "source": [
    "def fibo(num):\n",
    "    if num<=1:\n",
    "        return num\n",
    "    else:\n",
    "        return fibo(num-1) + fibo(num-2)\n",
    "\n",
    "print(fibo(10))            "
   ]
  },
  {
   "cell_type": "code",
   "execution_count": 1,
   "metadata": {},
   "outputs": [
    {
     "name": "stdout",
     "output_type": "stream",
     "text": [
      "{4: 16}\n"
     ]
    }
   ],
   "source": [
    "#second program\n",
    "\n",
    "def add_dict(a,b=None):\n",
    "    if b is None:\n",
    "        b={}\n",
    "\n",
    "    b[a]=a**2\n",
    "    return b\n",
    "\n",
    "print(add_dict(4))        \n"
   ]
  },
  {
   "cell_type": "code",
   "execution_count": 5,
   "metadata": {},
   "outputs": [
    {
     "name": "stdout",
     "output_type": "stream",
     "text": [
      "{'a': 4, 'b': 10}\n"
     ]
    }
   ],
   "source": [
    "def integer(**kwaregs):\n",
    "    return {key:value for key,value in kwaregs.items() if isinstance(value,int)}\n",
    "\n",
    "print(integer(a=4,b=10,c=4.4))    "
   ]
  },
  {
   "cell_type": "code",
   "execution_count": 1,
   "metadata": {},
   "outputs": [
    {
     "name": "stdout",
     "output_type": "stream",
     "text": [
      "[1, 4, 9, 16, 25, 36]\n"
     ]
    }
   ],
   "source": [
    "### Assignment 4: Function with Callback\n",
    "\n",
    "def call(callback,lst):\n",
    "    return [callback(x) for x in lst]\n",
    "\n",
    "print(call(lambda x:x**2,[1,2,3,4,5,6])) \n",
    "   "
   ]
  },
  {
   "cell_type": "code",
   "execution_count": 3,
   "metadata": {},
   "outputs": [
    {
     "name": "stdout",
     "output_type": "stream",
     "text": [
      "4\n"
     ]
    }
   ],
   "source": [
    "#return another function \n",
    "\n",
    "def function1():\n",
    "    def function2(x):\n",
    "        return x**2\n",
    "    return function2\n",
    "\n",
    "squ=function1()\n",
    "print(squ(2))"
   ]
  },
  {
   "cell_type": "code",
   "execution_count": 2,
   "metadata": {},
   "outputs": [
    {
     "name": "stdout",
     "output_type": "stream",
     "text": [
      "55\n"
     ]
    }
   ],
   "source": [
    "def fibonacci(num):\n",
    "    if num<=1:\n",
    "        return num\n",
    "    else:\n",
    "        return fibonacci(num-1) +fibonacci(num-2)\n",
    "\n",
    "\n",
    "x=fibonacci(10)\n",
    "print(x)\n"
   ]
  },
  {
   "cell_type": "code",
   "execution_count": null,
   "metadata": {},
   "outputs": [],
   "source": []
  }
 ],
 "metadata": {
  "kernelspec": {
   "display_name": "Python 3",
   "language": "python",
   "name": "python3"
  },
  "language_info": {
   "codemirror_mode": {
    "name": "ipython",
    "version": 3
   },
   "file_extension": ".py",
   "mimetype": "text/x-python",
   "name": "python",
   "nbconvert_exporter": "python",
   "pygments_lexer": "ipython3",
   "version": "3.12.0"
  }
 },
 "nbformat": 4,
 "nbformat_minor": 2
}
