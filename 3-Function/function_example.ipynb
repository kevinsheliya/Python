{
 "cells": [
  {
   "cell_type": "markdown",
   "metadata": {},
   "source": [
    "Temperature convert "
   ]
  },
  {
   "cell_type": "code",
   "execution_count": 3,
   "metadata": {},
   "outputs": [
    {
     "name": "stdout",
     "output_type": "stream",
     "text": [
      "77.0\n",
      "25.0\n"
     ]
    }
   ],
   "source": [
    "def temperature(temp,unit):\n",
    "    if unit=='C':\n",
    "        return temp *9/5 +32\n",
    "    elif unit=='F':\n",
    "        return (temp-32) *5/9\n",
    "    else:\n",
    "        return None\n",
    "\n",
    "print(temperature(25,'C'))\n",
    "print(temperature(77,'F'))"
   ]
  },
  {
   "cell_type": "markdown",
   "metadata": {},
   "source": [
    "Password check"
   ]
  },
  {
   "cell_type": "code",
   "execution_count": 5,
   "metadata": {},
   "outputs": [
    {
     "name": "stdout",
     "output_type": "stream",
     "text": [
      "True\n",
      "False\n"
     ]
    }
   ],
   "source": [
    "def check_password(password):\n",
    "    if len(password)<8:\n",
    "        return False\n",
    "    if not any(digit.isdigit() for digit in password):\n",
    "        return False\n",
    "    elif not any(upper.isupper() for upper in password):\n",
    "        return False\n",
    "    elif not any(lower.islower() for lower in password):\n",
    "        return False\n",
    "    elif not any(special in '!@#$%^&*()-+' for special in password):\n",
    "        return False\n",
    "    else:\n",
    "        return True                \n",
    "\n",
    "#calling function \n",
    "print(check_password(\"strongPass123@#\"))\n",
    "print(check_password(\"Hello\"))"
   ]
  },
  {
   "cell_type": "code",
   "execution_count": 9,
   "metadata": {},
   "outputs": [
    {
     "name": "stdout",
     "output_type": "stream",
     "text": [
      "78\n"
     ]
    }
   ],
   "source": [
    "def cal_cost(cart):\n",
    "    total_cost=0\n",
    "    for item in cart:\n",
    "        total_cost+=item['price']*item['qty']\n",
    "    return total_cost    \n",
    "\n",
    "\n",
    "cart=[\n",
    "    {'name':'apple','price':5,'qty':10},\n",
    "    {'name':'orange','price':7,'qty':4}\n",
    "]\n",
    "\n",
    "to_cost=cal_cost(cart)\n",
    "print(to_cost)"
   ]
  },
  {
   "cell_type": "markdown",
   "metadata": {},
   "source": [
    "Is Palindrom Number "
   ]
  },
  {
   "cell_type": "code",
   "execution_count": 12,
   "metadata": {},
   "outputs": [
    {
     "name": "stdout",
     "output_type": "stream",
     "text": [
      "False\n",
      "False\n",
      "True\n"
     ]
    }
   ],
   "source": [
    "def palindrom(s):\n",
    "    s.lower().replace(\" \",\"\")\n",
    "    return s==s[::-1]\n",
    "\n",
    "print(palindrom(\"1212\"))    \n",
    "print(palindrom('hello'))\n",
    "print(palindrom(\"121\"))\n"
   ]
  },
  {
   "cell_type": "markdown",
   "metadata": {},
   "source": [
    "Factorial Number"
   ]
  },
  {
   "cell_type": "code",
   "execution_count": 14,
   "metadata": {},
   "outputs": [
    {
     "name": "stdout",
     "output_type": "stream",
     "text": [
      "120\n",
      "720\n"
     ]
    }
   ],
   "source": [
    "def factorial(num):\n",
    "    if num==1:\n",
    "        return 1\n",
    "    else:\n",
    "       return num * factorial(num-1)\n",
    "\n",
    "print(factorial(5))\n",
    "print(factorial(6))"
   ]
  },
  {
   "cell_type": "code",
   "execution_count": 28,
   "metadata": {},
   "outputs": [
    {
     "name": "stdout",
     "output_type": "stream",
     "text": [
      "{'hello': 1, 'how': 1, 'are': 1, 'you': 1, 'i': 1, 'am': 1, 'fine': 1}\n"
     ]
    }
   ],
   "source": [
    "def word_frequency(file_path):\n",
    "    word_count={}\n",
    "    with open(file_path,'r') as file:\n",
    "        for line in file:\n",
    "            words=line.split()\n",
    "            for word in words:\n",
    "                word=word.lower().strip('.,!?;:\"\\'')\n",
    "                word_count[word]=word_count.get(word,0)+1\n",
    "\n",
    "    return word_count            \n",
    "\n",
    "filepath='sample.txt' \n",
    "word_frequency1=word_frequency(filepath)\n",
    "print(word_frequency1)                "
   ]
  },
  {
   "cell_type": "code",
   "execution_count": null,
   "metadata": {},
   "outputs": [],
   "source": []
  }
 ],
 "metadata": {
  "kernelspec": {
   "display_name": "Python 3",
   "language": "python",
   "name": "python3"
  },
  "language_info": {
   "codemirror_mode": {
    "name": "ipython",
    "version": 3
   },
   "file_extension": ".py",
   "mimetype": "text/x-python",
   "name": "python",
   "nbconvert_exporter": "python",
   "pygments_lexer": "ipython3",
   "version": "3.12.0"
  }
 },
 "nbformat": 4,
 "nbformat_minor": 2
}
