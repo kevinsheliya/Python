{
 "cells": [
  {
   "cell_type": "code",
   "execution_count": 4,
   "metadata": {},
   "outputs": [
    {
     "name": "stdout",
     "output_type": "stream",
     "text": [
      "5.0\n",
      "0.8939966636005579\n",
      "1.0\n"
     ]
    }
   ],
   "source": [
    "# first\n",
    "\n",
    "import math \n",
    "\n",
    "print(math.sqrt(25))\n",
    "print(math.sin(90))\n",
    "print(math.sin(math.radians(90)))"
   ]
  },
  {
   "cell_type": "code",
   "execution_count": 1,
   "metadata": {},
   "outputs": [
    {
     "name": "stdout",
     "output_type": "stream",
     "text": [
      "2024-07-23 20:53:56.679563\n"
     ]
    }
   ],
   "source": [
    "import datetime as dt\n",
    "today=dt.datetime.now()\n",
    "print(today)"
   ]
  },
  {
   "cell_type": "code",
   "execution_count": 4,
   "metadata": {},
   "outputs": [
    {
     "name": "stdout",
     "output_type": "stream",
     "text": [
      "26\n"
     ]
    }
   ],
   "source": [
    "import random\n",
    "x=random.randint(1,100)\n",
    "print(x)"
   ]
  },
  {
   "cell_type": "code",
   "execution_count": 7,
   "metadata": {},
   "outputs": [
    {
     "name": "stdout",
     "output_type": "stream",
     "text": [
      "4.0\n",
      "8.0\n"
     ]
    }
   ],
   "source": [
    "from math import sqrt,pow\n",
    "x=sqrt(16)\n",
    "y=pow(2,3)\n",
    "print(x)\n",
    "print(y)\n"
   ]
  },
  {
   "cell_type": "code",
   "execution_count": 8,
   "metadata": {},
   "outputs": [
    {
     "name": "stdout",
     "output_type": "stream",
     "text": [
      "error importing : No module named 'non_existent_module'\n"
     ]
    }
   ],
   "source": [
    "try:\n",
    "    import non_existent_module\n",
    "except ImportError as e:\n",
    "    print(f\"error importing : {e}\")    "
   ]
  },
  {
   "cell_type": "code",
   "execution_count": 15,
   "metadata": {},
   "outputs": [
    {
     "name": "stdout",
     "output_type": "stream",
     "text": [
      "['import.ipynb', 'modul_assignment.ipynb', 'new']\n",
      "['import.ipynb', 'modul_assignment.ipynb']\n"
     ]
    }
   ],
   "source": [
    "import os\n",
    "os.mkdir('new')\n",
    "\n",
    "print(os.listdir('.'))\n",
    "\n",
    "os.rmdir('new')\n",
    "print(os.listdir('.'))"
   ]
  },
  {
   "cell_type": "code",
   "execution_count": 16,
   "metadata": {},
   "outputs": [
    {
     "name": "stdout",
     "output_type": "stream",
     "text": [
      "python version :3.12.0 | packaged by Anaconda, Inc. | (main, Oct  2 2023, 17:20:38) [MSC v.1916 64 bit (AMD64)]\n",
      "command line argument :['C:\\\\Users\\\\D E L L\\\\AppData\\\\Roaming\\\\Python\\\\Python312\\\\site-packages\\\\ipykernel_launcher.py', '--f=\"c:\\\\Users\\\\D E L L\\\\AppData\\\\Roaming\\\\jupyter\\\\runtime\\\\kernel-v2-48687793rywNk718.json\"']\n"
     ]
    }
   ],
   "source": [
    "import sys\n",
    "\n",
    "print(f\"python version :{sys.version}\")\n",
    "print(f\"command line argument :{sys.argv}\")"
   ]
  },
  {
   "cell_type": "code",
   "execution_count": 18,
   "metadata": {},
   "outputs": [
    {
     "name": "stdout",
     "output_type": "stream",
     "text": [
      "1\n",
      "120\n"
     ]
    }
   ],
   "source": [
    "import math\n",
    "\n",
    "print(math.gcd(13,30))\n",
    "print(math.factorial(5))"
   ]
  },
  {
   "cell_type": "code",
   "execution_count": 21,
   "metadata": {},
   "outputs": [
    {
     "name": "stdout",
     "output_type": "stream",
     "text": [
      "today's date:2024-07-23\n",
      "100 day after:2024-10-13\n",
      "accept date :2021-01-29\n"
     ]
    }
   ],
   "source": [
    "import datetime\n",
    "\n",
    "today=datetime.date.today()\n",
    "print(f\"today's date:{today}\")\n",
    "\n",
    "f_date=today + datetime.timedelta(days=82)\n",
    "print(f\"100 day after:{f_date}\")\n",
    "\n",
    "date=datetime.date(2021,1,29)\n",
    "print(f\"accept date :{date}\")"
   ]
  },
  {
   "cell_type": "code",
   "execution_count": 24,
   "metadata": {},
   "outputs": [
    {
     "name": "stdout",
     "output_type": "stream",
     "text": [
      "[7, 2, 10, 11, 6]\n",
      "[5, 2, 3, 4, 1]\n"
     ]
    }
   ],
   "source": [
    "import random\n",
    "random_list=[random.randint(1,50) for i in range(5)]\n",
    "print(random_list)\n",
    "\n",
    "list1=[1,2,3,4,5]\n",
    "random.shuffle(list1)\n",
    "print(list1)"
   ]
  },
  {
   "cell_type": "code",
   "execution_count": null,
   "metadata": {},
   "outputs": [],
   "source": []
  },
  {
   "cell_type": "code",
   "execution_count": null,
   "metadata": {},
   "outputs": [],
   "source": []
  },
  {
   "cell_type": "code",
   "execution_count": null,
   "metadata": {},
   "outputs": [],
   "source": []
  }
 ],
 "metadata": {
  "kernelspec": {
   "display_name": "Python 3",
   "language": "python",
   "name": "python3"
  },
  "language_info": {
   "codemirror_mode": {
    "name": "ipython",
    "version": 3
   },
   "file_extension": ".py",
   "mimetype": "text/x-python",
   "name": "python",
   "nbconvert_exporter": "python",
   "pygments_lexer": "ipython3",
   "version": "3.12.0"
  }
 },
 "nbformat": 4,
 "nbformat_minor": 2
}
