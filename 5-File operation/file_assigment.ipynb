{
 "cells": [
  {
   "cell_type": "code",
   "execution_count": 2,
   "metadata": {},
   "outputs": [
    {
     "name": "stdout",
     "output_type": "stream",
     "text": [
      "hello word\n",
      "how are you today\n",
      "\n",
      "i am find\n",
      "and you\n"
     ]
    }
   ],
   "source": [
    "def open_file(path):\n",
    "    with open('sample.txt','r') as file:\n",
    "        for line in file:\n",
    "            print(line.strip())\n",
    "\n",
    "path='sample.txt'\n",
    "open_file(path)"
   ]
  },
  {
   "cell_type": "code",
   "execution_count": 5,
   "metadata": {},
   "outputs": [],
   "source": [
    "def write_file(lines,filename):\n",
    "    with open(filename,'w') as file:\n",
    "        for line in lines:\n",
    "            file.write(line + '\\n')\n",
    "\n",
    "write_file(['hello','today','find'],'output.txt')"
   ]
  },
  {
   "cell_type": "code",
   "execution_count": 7,
   "metadata": {},
   "outputs": [],
   "source": [
    "def copy_file(source,destination):\n",
    "    with open(source,'r') as file:\n",
    "        with open(destination,'w') as file2:\n",
    "            file2.write(file.read())\n",
    "\n",
    "copy_file('sample.txt','output.txt')            "
   ]
  },
  {
   "cell_type": "code",
   "execution_count": 4,
   "metadata": {},
   "outputs": [],
   "source": [
    "def append_mode(text,filename):\n",
    "    with open(filename,'a') as file:\n",
    "        file.write(text +'\\n')\n",
    "\n",
    "append_mode('hello how are you today','log.txt')        "
   ]
  },
  {
   "cell_type": "code",
   "execution_count": 5,
   "metadata": {},
   "outputs": [
    {
     "data": {
      "text/plain": [
       "24"
      ]
     },
     "execution_count": 5,
     "metadata": {},
     "output_type": "execute_result"
    }
   ],
   "source": [
    "def count_word(filename):\n",
    "    with open(filename,'r') as file:\n",
    "        lines=file.readlines()\n",
    "        count_word1=sum(len(line)for line in lines)\n",
    "    return count_word1\n",
    "\n",
    "count_word('log.txt')"
   ]
  },
  {
   "cell_type": "code",
   "execution_count": 6,
   "metadata": {},
   "outputs": [],
   "source": [
    "## find and replace word in file\n",
    "\n",
    "def find_replace(filename,old_word,new_word):\n",
    "    with open(filename,'r') as file:\n",
    "        text=file.read()\n",
    "    new_word=text.replace(old_word,new_word)    \n",
    "    with open(filename,'w') as file:\n",
    "        file.write(new_word)\n",
    "\n",
    "find_replace('log.txt','hello','hellooo')\n",
    "\n",
    "\n",
    "\n"
   ]
  },
  {
   "cell_type": "code",
   "execution_count": 9,
   "metadata": {},
   "outputs": [
    {
     "name": "stdout",
     "output_type": "stream",
     "text": [
      "and you\n",
      "i am find\n",
      "\n",
      "how are you today\n",
      "hello word\n"
     ]
    }
   ],
   "source": [
    "def read_reverse(filename):\n",
    "    with open(filename,'r') as file:\n",
    "        lines=file.readlines()\n",
    "    for line in reversed(lines):\n",
    "        print(line.strip())\n",
    "\n",
    "read_reverse('output.txt')            "
   ]
  },
  {
   "cell_type": "code",
   "execution_count": null,
   "metadata": {},
   "outputs": [],
   "source": []
  }
 ],
 "metadata": {
  "kernelspec": {
   "display_name": "Python 3",
   "language": "python",
   "name": "python3"
  },
  "language_info": {
   "codemirror_mode": {
    "name": "ipython",
    "version": 3
   },
   "file_extension": ".py",
   "mimetype": "text/x-python",
   "name": "python",
   "nbconvert_exporter": "python",
   "pygments_lexer": "ipython3",
   "version": "3.12.0"
  }
 },
 "nbformat": 4,
 "nbformat_minor": 2
}
