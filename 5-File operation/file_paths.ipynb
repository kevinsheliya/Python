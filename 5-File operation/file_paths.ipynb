{
 "cells": [
  {
   "cell_type": "code",
   "execution_count": 1,
   "metadata": {},
   "outputs": [
    {
     "name": "stdout",
     "output_type": "stream",
     "text": [
      "current dirct=e:\\pyhton\\4-file_operation\n"
     ]
    }
   ],
   "source": [
    "import os\n",
    "cwd=os.getcwd()\n",
    "print(f\"current dirct={cwd}\")"
   ]
  },
  {
   "cell_type": "code",
   "execution_count": 4,
   "metadata": {},
   "outputs": [
    {
     "name": "stdout",
     "output_type": "stream",
     "text": [
      "hello\n"
     ]
    }
   ],
   "source": [
    "mk_dir='hello'\n",
    "os.mkdir(mk_dir)\n",
    "print(f\"{mk_dir}\")"
   ]
  },
  {
   "cell_type": "code",
   "execution_count": 8,
   "metadata": {},
   "outputs": [
    {
     "name": "stdout",
     "output_type": "stream",
     "text": [
      "['binary.bin', 'distination.txt', 'example.txt', 'file.ipynb', 'file_paths.ipynb', 'hello']\n"
     ]
    }
   ],
   "source": [
    "item=os.listdir('.')\n",
    "print(item)"
   ]
  },
  {
   "cell_type": "code",
   "execution_count": 9,
   "metadata": {},
   "outputs": [
    {
     "name": "stdout",
     "output_type": "stream",
     "text": [
      "floder\\file.txt\n"
     ]
    }
   ],
   "source": [
    "# joining path\n",
    "\n",
    "dir_name='floder'\n",
    "file_name='file.txt'\n",
    "full_path=os.path.join(dir_name,file_name)\n",
    "print(full_path)"
   ]
  },
  {
   "cell_type": "code",
   "execution_count": 10,
   "metadata": {},
   "outputs": [
    {
     "name": "stdout",
     "output_type": "stream",
     "text": [
      "e:\\pyhton\\4-file_operation\\floder\\file.txt\n"
     ]
    }
   ],
   "source": [
    "#joining full path \n",
    "\n",
    "\n",
    "dir_name='floder'\n",
    "file_name='file.txt'\n",
    "full_path=os.path.join(os.getcwd(),dir_name,file_name)\n",
    "print(full_path)\n",
    "\n"
   ]
  },
  {
   "cell_type": "code",
   "execution_count": 11,
   "metadata": {},
   "outputs": [
    {
     "name": "stdout",
     "output_type": "stream",
     "text": [
      "path is 'example.txt' file\n"
     ]
    }
   ],
   "source": [
    "path='example.txt'\n",
    "\n",
    "if os.path.isdir(path):\n",
    "    print(f\"path is '{path}' directary\")\n",
    "elif os.path.isfile(path):\n",
    "    print(f\"path is '{path}' file\")\n",
    "else:\n",
    "    print(f\"the path '{path}' is neither afile or directary\")        "
   ]
  },
  {
   "cell_type": "code",
   "execution_count": 15,
   "metadata": {},
   "outputs": [
    {
     "name": "stdout",
     "output_type": "stream",
     "text": [
      "e:\\pyhton\\4-file_operation\\hello\n"
     ]
    }
   ],
   "source": [
    "## Getting the absolute path\n",
    "relative_path='hello'\n",
    "absolute_path=os.path.abspath(relative_path)\n",
    "print(absolute_path)"
   ]
  },
  {
   "cell_type": "code",
   "execution_count": null,
   "metadata": {},
   "outputs": [],
   "source": []
  }
 ],
 "metadata": {
  "kernelspec": {
   "display_name": "Python 3",
   "language": "python",
   "name": "python3"
  },
  "language_info": {
   "codemirror_mode": {
    "name": "ipython",
    "version": 3
   },
   "file_extension": ".py",
   "mimetype": "text/x-python",
   "name": "python",
   "nbconvert_exporter": "python",
   "pygments_lexer": "ipython3",
   "version": "3.12.0"
  }
 },
 "nbformat": 4,
 "nbformat_minor": 2
}
