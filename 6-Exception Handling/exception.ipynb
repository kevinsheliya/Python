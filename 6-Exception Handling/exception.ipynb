{
 "cells": [
  {
   "cell_type": "code",
   "execution_count": 1,
   "metadata": {},
   "outputs": [
    {
     "name": "stdout",
     "output_type": "stream",
     "text": [
      "variable is not difine\n"
     ]
    }
   ],
   "source": [
    "try:\n",
    "    a=b\n",
    "except:\n",
    "    print(\"variable is not difine\")\n",
    "        "
   ]
  },
  {
   "cell_type": "code",
   "execution_count": 2,
   "metadata": {},
   "outputs": [
    {
     "ename": "NameError",
     "evalue": "name 'b' is not defined",
     "output_type": "error",
     "traceback": [
      "\u001b[1;31m---------------------------------------------------------------------------\u001b[0m",
      "\u001b[1;31mNameError\u001b[0m                                 Traceback (most recent call last)",
      "Cell \u001b[1;32mIn[2], line 1\u001b[0m\n\u001b[1;32m----> 1\u001b[0m a\u001b[38;5;241m=\u001b[39m\u001b[43mb\u001b[49m\n",
      "\u001b[1;31mNameError\u001b[0m: name 'b' is not defined"
     ]
    }
   ],
   "source": [
    "a=b"
   ]
  },
  {
   "cell_type": "code",
   "execution_count": 3,
   "metadata": {},
   "outputs": [
    {
     "name": "stdout",
     "output_type": "stream",
     "text": [
      "name 'b' is not defined\n"
     ]
    }
   ],
   "source": [
    "try:\n",
    "    a=b\n",
    "except NameError as ex:\n",
    "    print(ex)\n",
    "        "
   ]
  },
  {
   "cell_type": "code",
   "execution_count": 5,
   "metadata": {},
   "outputs": [
    {
     "name": "stdout",
     "output_type": "stream",
     "text": [
      "name 'b' is not defined\n"
     ]
    }
   ],
   "source": [
    "try:\n",
    "    ans=10/1\n",
    "    a=b\n",
    "except ZeroDivisionError as ex:\n",
    "    print(ex)\n",
    "except NameError as ex1:\n",
    "    print(ex1)\n",
    "\n"
   ]
  },
  {
   "cell_type": "code",
   "execution_count": 8,
   "metadata": {},
   "outputs": [
    {
     "name": "stdout",
     "output_type": "stream",
     "text": [
      "please enter vaild number\n"
     ]
    }
   ],
   "source": [
    "try:\n",
    "    num=int(input(\"enter the numner\"))\n",
    "    ans=10/num\n",
    "except ZeroDivisionError:\n",
    "    print(\"enter number greater than 0\")\n",
    "except ValueError:\n",
    "    print(\"please enter vaild number\")\n",
    "except Exception as ex:\n",
    "    print(ex)        "
   ]
  },
  {
   "cell_type": "code",
   "execution_count": 11,
   "metadata": {},
   "outputs": [
    {
     "name": "stdout",
     "output_type": "stream",
     "text": [
      "enter number greater than 0\n",
      "compile code \n"
     ]
    }
   ],
   "source": [
    "try:\n",
    "    num=int(input(\"enter the numner\"))\n",
    "    ans=10/num\n",
    "except ZeroDivisionError:\n",
    "    print(\"enter number greater than 0\")\n",
    "except ValueError:\n",
    "    print(\"please enter vaild number\")\n",
    "except Exception as ex:\n",
    "    print(ex)  \n",
    "else:\n",
    "    print(f\"result is : {ans}\") \n",
    "finally:\n",
    "    print(\"compile code \")       \n"
   ]
  },
  {
   "cell_type": "code",
   "execution_count": 1,
   "metadata": {},
   "outputs": [
    {
     "name": "stdout",
     "output_type": "stream",
     "text": [
      "execution complete\n",
      "98\n"
     ]
    }
   ],
   "source": [
    "def get_list(lst,index):\n",
    "    try:\n",
    "        element=lst[index]\n",
    "    except IndexError as e:\n",
    "        print(e)\n",
    "        element=None\n",
    "    finally:\n",
    "        print(\"execution complete\")\n",
    "    return element\n",
    "\n",
    "lst=[2,4,5,6,7,98,9]\n",
    "print(get_list(lst,5))    \n"
   ]
  },
  {
   "cell_type": "code",
   "execution_count": 2,
   "metadata": {},
   "outputs": [
    {
     "name": "stdout",
     "output_type": "stream",
     "text": [
      "code running\n",
      "5.0\n"
     ]
    }
   ],
   "source": [
    "#DEFINE with class\n",
    "\n",
    "class Calculate:\n",
    "    def divive(self,a,b):\n",
    "        try:\n",
    "            result=a/b\n",
    "        except ValueError as v:\n",
    "            print(v)\n",
    "            result=None \n",
    "        finally:\n",
    "            print(\"code running\")\n",
    "            return result       \n",
    "\n",
    "cal=Calculate()\n",
    "print(cal.divive(10,2))\n",
    "\n",
    "\n",
    "\n",
    "\n",
    "\n",
    "\n",
    "\n",
    "\n"
   ]
  },
  {
   "cell_type": "code",
   "execution_count": null,
   "metadata": {},
   "outputs": [],
   "source": []
  }
 ],
 "metadata": {
  "kernelspec": {
   "display_name": "Python 3",
   "language": "python",
   "name": "python3"
  },
  "language_info": {
   "codemirror_mode": {
    "name": "ipython",
    "version": 3
   },
   "file_extension": ".py",
   "mimetype": "text/x-python",
   "name": "python",
   "nbconvert_exporter": "python",
   "pygments_lexer": "ipython3",
   "version": "3.12.0"
  }
 },
 "nbformat": 4,
 "nbformat_minor": 2
}
