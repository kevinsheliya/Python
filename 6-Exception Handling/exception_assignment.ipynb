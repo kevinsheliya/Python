{
 "cells": [
  {
   "cell_type": "code",
   "execution_count": 3,
   "metadata": {},
   "outputs": [
    {
     "name": "stdout",
     "output_type": "stream",
     "text": [
      "Error :division by zero\n",
      "excution completed \n",
      "None\n"
     ]
    }
   ],
   "source": [
    "def Zero_div(num1,num2):\n",
    "    try:\n",
    "        result=num1/num2\n",
    "    except ZeroDivisionError as ex:\n",
    "        print(f\"Error :{ex}\")\n",
    "        result=None\n",
    "    finally:\n",
    "        print(\"excution completed \")\n",
    "    return result\n",
    "\n",
    "print(Zero_div(10,0))"
   ]
  },
  {
   "cell_type": "code",
   "execution_count": 5,
   "metadata": {},
   "outputs": [
    {
     "name": "stdout",
     "output_type": "stream",
     "text": [
      "error =[Errno 2] No such file or directory: 'exception.txt'\n",
      "None\n"
     ]
    }
   ],
   "source": [
    "# file with try,except,finally \n",
    "\n",
    "def file_read(filename):\n",
    "    try:\n",
    "        file=open(filename,'r')\n",
    "        content=file.read()\n",
    "        return content\n",
    "    except FileNotFoundError as ex:\n",
    "        print(f\"error ={ex}\")\n",
    "    finally:\n",
    "        try:\n",
    "            file.close()\n",
    "        except NameError:\n",
    "            pass\n",
    "\n",
    "print(file_read('exception.txt'))         "
   ]
  },
  {
   "cell_type": "code",
   "execution_count": 8,
   "metadata": {},
   "outputs": [
    {
     "name": "stdout",
     "output_type": "stream",
     "text": [
      "Execution complete.\n",
      "21\n",
      "Error: unsupported operand type(s) for +=: 'int' and 'str'\n",
      "Execution complete.\n",
      "None\n"
     ]
    }
   ],
   "source": [
    "def sum_list(lst):\n",
    "    total = 0\n",
    "    try:\n",
    "        for item in lst:\n",
    "            total += item\n",
    "    except TypeError as e:\n",
    "        print(f\"Error: {e}\")\n",
    "        total = None\n",
    "    finally:\n",
    "        print(\"Execution complete.\")\n",
    "    return total\n",
    "\n",
    "print(sum_list([1,2,3,4,5,6]))\n",
    "\n",
    "print(sum_list([1,2,3,4,5,'a']))"
   ]
  },
  {
   "cell_type": "code",
   "execution_count": 4,
   "metadata": {},
   "outputs": [
    {
     "name": "stdout",
     "output_type": "stream",
     "text": [
      "invalid literal for int() with base 10: '0.1'\n",
      "program complete\n",
      "None\n"
     ]
    }
   ],
   "source": [
    "def value_error():\n",
    "    try:\n",
    "        value=int(input(\"enter an integer :\"))\n",
    "    except ValueError as ex:\n",
    "        print(ex)\n",
    "        value=None\n",
    "    finally:\n",
    "        print(\"program complete\") \n",
    "    return value\n",
    "\n",
    "print(value_error())           "
   ]
  },
  {
   "cell_type": "code",
   "execution_count": 3,
   "metadata": {},
   "outputs": [],
   "source": [
    "def dict_value(d,key):\n",
    "    try:\n",
    "        value=d[key]\n",
    "    except KeyError as k:\n",
    "        print(k)\n",
    "        value=None\n",
    "    finally:\n",
    "        print(\"program running \")\n",
    "    return value\n",
    "\n",
    "    d={'a':1,'b':2,'c':3,'d':4}\n",
    "    print(dict_value(d,'c'))\n",
    "    print(dict_value(d,'x'))            "
   ]
  },
  {
   "cell_type": "code",
   "execution_count": 6,
   "metadata": {},
   "outputs": [
    {
     "name": "stdout",
     "output_type": "stream",
     "text": [
      "first completed\n",
      "second completed\n",
      "finally excution\n",
      "10.0\n",
      "first completed\n",
      "division by zero\n",
      "second completed\n",
      "finally excution\n",
      "None\n"
     ]
    }
   ],
   "source": [
    "def nest_exception(n1):\n",
    "    try:\n",
    "        try:\n",
    "            num=int(n1)\n",
    "        except ValueError as e:\n",
    "            print(e)\n",
    "            num=None\n",
    "        finally:\n",
    "            print(\"first completed\" )\n",
    "        if num is not None:\n",
    "            try:\n",
    "                result=10/num\n",
    "            except ZeroDivisionError as z:\n",
    "                print(z)\n",
    "                result=None\n",
    "            finally:\n",
    "                print(\"second completed\")\n",
    "            return result        \n",
    "    finally:\n",
    "        print(\"finally excution\")\n",
    "\n",
    "print(nest_exception('1'))\n",
    "print(nest_exception('0'))\n",
    "\n",
    "\n"
   ]
  },
  {
   "cell_type": "code",
   "execution_count": null,
   "metadata": {},
   "outputs": [],
   "source": []
  }
 ],
 "metadata": {
  "kernelspec": {
   "display_name": "Python 3",
   "language": "python",
   "name": "python3"
  },
  "language_info": {
   "codemirror_mode": {
    "name": "ipython",
    "version": 3
   },
   "file_extension": ".py",
   "mimetype": "text/x-python",
   "name": "python",
   "nbconvert_exporter": "python",
   "pygments_lexer": "ipython3",
   "version": "3.12.0"
  }
 },
 "nbformat": 4,
 "nbformat_minor": 2
}
