{
 "cells": [
  {
   "cell_type": "code",
   "execution_count": 1,
   "metadata": {},
   "outputs": [],
   "source": [
    "# access modifiiers\n",
    "# public : by default\n",
    "# private : __variablename\n",
    "# protected : _variablename\n",
    "\n",
    " "
   ]
  },
  {
   "cell_type": "code",
   "execution_count": 5,
   "metadata": {},
   "outputs": [
    {
     "data": {
      "text/plain": [
       "('kevin', 18)"
      ]
     },
     "execution_count": 5,
     "metadata": {},
     "output_type": "execute_result"
    }
   ],
   "source": [
    "# public\n",
    "\n",
    "class Person:\n",
    "    def __init__(self,name,age):\n",
    "        self.name=name\n",
    "        self.age=age\n",
    "\n",
    "# we access variable outside the class \n",
    "def get_detail(person):\n",
    "    return person.name ,person.age  \n",
    "\n",
    "person=Person(\"kevin\",18)\n",
    "get_detail(person)          "
   ]
  },
  {
   "cell_type": "code",
   "execution_count": 8,
   "metadata": {},
   "outputs": [
    {
     "data": {
      "text/plain": [
       "['__class__',\n",
       " '__delattr__',\n",
       " '__dict__',\n",
       " '__dir__',\n",
       " '__doc__',\n",
       " '__eq__',\n",
       " '__format__',\n",
       " '__ge__',\n",
       " '__getattribute__',\n",
       " '__getstate__',\n",
       " '__gt__',\n",
       " '__hash__',\n",
       " '__init__',\n",
       " '__init_subclass__',\n",
       " '__le__',\n",
       " '__lt__',\n",
       " '__module__',\n",
       " '__ne__',\n",
       " '__new__',\n",
       " '__reduce__',\n",
       " '__reduce_ex__',\n",
       " '__repr__',\n",
       " '__setattr__',\n",
       " '__sizeof__',\n",
       " '__str__',\n",
       " '__subclasshook__',\n",
       " '__weakref__',\n",
       " 'age',\n",
       " 'name']"
      ]
     },
     "execution_count": 8,
     "metadata": {},
     "output_type": "execute_result"
    }
   ],
   "source": [
    "dir(person)"
   ]
  },
  {
   "cell_type": "code",
   "execution_count": 9,
   "metadata": {},
   "outputs": [
    {
     "ename": "AttributeError",
     "evalue": "'Person' object has no attribute 'name'",
     "output_type": "error",
     "traceback": [
      "\u001b[1;31m---------------------------------------------------------------------------\u001b[0m",
      "\u001b[1;31mAttributeError\u001b[0m                            Traceback (most recent call last)",
      "Cell \u001b[1;32mIn[9], line 13\u001b[0m\n\u001b[0;32m     10\u001b[0m     \u001b[38;5;28;01mreturn\u001b[39;00m person\u001b[38;5;241m.\u001b[39mname  \n\u001b[0;32m     12\u001b[0m person\u001b[38;5;241m=\u001b[39mPerson(\u001b[38;5;124m\"\u001b[39m\u001b[38;5;124mkevin\u001b[39m\u001b[38;5;124m\"\u001b[39m,\u001b[38;5;241m18\u001b[39m)\n\u001b[1;32m---> 13\u001b[0m \u001b[43mget_detail\u001b[49m\u001b[43m(\u001b[49m\u001b[43mperson\u001b[49m\u001b[43m)\u001b[49m          \n",
      "Cell \u001b[1;32mIn[9], line 10\u001b[0m, in \u001b[0;36mget_detail\u001b[1;34m(person)\u001b[0m\n\u001b[0;32m      9\u001b[0m \u001b[38;5;28;01mdef\u001b[39;00m \u001b[38;5;21mget_detail\u001b[39m(person):\n\u001b[1;32m---> 10\u001b[0m     \u001b[38;5;28;01mreturn\u001b[39;00m \u001b[43mperson\u001b[49m\u001b[38;5;241;43m.\u001b[39;49m\u001b[43mname\u001b[49m\n",
      "\u001b[1;31mAttributeError\u001b[0m: 'Person' object has no attribute 'name'"
     ]
    }
   ],
   "source": [
    "# private variable\n",
    "\n",
    "class Person:\n",
    "    def __init__(self,name,age):\n",
    "        self.__name=name  # private \n",
    "        self.__age=age\n",
    "\n",
    "\n",
    "def get_detail(person):\n",
    "    return person.name  \n",
    "\n",
    "person=Person(\"kevin\",18)\n",
    "get_detail(person)          "
   ]
  },
  {
   "cell_type": "code",
   "execution_count": 10,
   "metadata": {},
   "outputs": [
    {
     "data": {
      "text/plain": [
       "['_Person__age',\n",
       " '_Person__name',\n",
       " '__class__',\n",
       " '__delattr__',\n",
       " '__dict__',\n",
       " '__dir__',\n",
       " '__doc__',\n",
       " '__eq__',\n",
       " '__format__',\n",
       " '__ge__',\n",
       " '__getattribute__',\n",
       " '__getstate__',\n",
       " '__gt__',\n",
       " '__hash__',\n",
       " '__init__',\n",
       " '__init_subclass__',\n",
       " '__le__',\n",
       " '__lt__',\n",
       " '__module__',\n",
       " '__ne__',\n",
       " '__new__',\n",
       " '__reduce__',\n",
       " '__reduce_ex__',\n",
       " '__repr__',\n",
       " '__setattr__',\n",
       " '__sizeof__',\n",
       " '__str__',\n",
       " '__subclasshook__',\n",
       " '__weakref__']"
      ]
     },
     "execution_count": 10,
     "metadata": {},
     "output_type": "execute_result"
    }
   ],
   "source": [
    "dir(person)"
   ]
  },
  {
   "cell_type": "code",
   "execution_count": 18,
   "metadata": {},
   "outputs": [
    {
     "name": "stdout",
     "output_type": "stream",
     "text": [
      "BMW\n",
      "2000\n",
      "bmw\n",
      "2001\n"
     ]
    }
   ],
   "source": [
    "# private variable access using class function\n",
    "\n",
    "class Car:\n",
    "    def __init__(self,name,year):\n",
    "        self.__name=name\n",
    "        self.__year=year\n",
    "\n",
    "    # this display value :\n",
    "\n",
    "    def get_name(self):\n",
    "        return self.__name \n",
    "\n",
    "    def get_time(self):\n",
    "        return self.__year\n",
    "\n",
    "    # this change value:\n",
    "    \n",
    "    def set_detail(self,name,year):\n",
    "        self.__name=name\n",
    "        if year > 2000:\n",
    "            self.__year=year\n",
    "        else:\n",
    "            print(\"default year set.\")\n",
    "\n",
    "\n",
    "car=Car(\"BMW\",2000)\n",
    "print(car.get_name())   \n",
    "print(car.get_time())            \n",
    "\n",
    "car.set_detail('bmw',2001)\n",
    "print(car.get_name())   \n",
    "print(car.get_time())            \n",
    "\n",
    "\n"
   ]
  },
  {
   "cell_type": "code",
   "execution_count": 20,
   "metadata": {},
   "outputs": [
    {
     "name": "stdout",
     "output_type": "stream",
     "text": [
      "kevin\n",
      "18\n",
      "male\n"
     ]
    }
   ],
   "source": [
    "# protected using derived class \n",
    "\n",
    "class Person:\n",
    "    def __init__(self,name,age,gender):\n",
    "        self._name=name  # protected variables\n",
    "        self._age=age\n",
    "        self.gender=gender\n",
    "\n",
    "class Employee(Person):\n",
    "    def __init(self,name,age,gender):\n",
    "        super().__init__(name,age,gender)\n",
    "\n",
    "e1=Employee(\"kevin\",18,\"male\")\n",
    "\n",
    "print(e1._name)\n",
    "print(e1._age)\n",
    "print(e1.gender)\n"
   ]
  },
  {
   "cell_type": "code",
   "execution_count": null,
   "metadata": {},
   "outputs": [],
   "source": []
  }
 ],
 "metadata": {
  "kernelspec": {
   "display_name": "Python 3",
   "language": "python",
   "name": "python3"
  },
  "language_info": {
   "codemirror_mode": {
    "name": "ipython",
    "version": 3
   },
   "file_extension": ".py",
   "mimetype": "text/x-python",
   "name": "python",
   "nbconvert_exporter": "python",
   "pygments_lexer": "ipython3",
   "version": "3.12.0"
  }
 },
 "nbformat": 4,
 "nbformat_minor": 2
}
