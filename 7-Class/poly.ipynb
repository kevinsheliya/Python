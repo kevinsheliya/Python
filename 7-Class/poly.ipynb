{
 "cells": [
  {
   "cell_type": "code",
   "execution_count": 5,
   "metadata": {},
   "outputs": [
    {
     "name": "stdout",
     "output_type": "stream",
     "text": [
      "area is 200\n",
      "area is 314.0\n"
     ]
    }
   ],
   "source": [
    "# base class\n",
    "class Shape:\n",
    "    def area(self):\n",
    "        return \"the area is :\"\n",
    "\n",
    "# derived class \n",
    "class Rectangle(Shape):\n",
    "    def __init__(self,l,b):\n",
    "        self.l=l\n",
    "        self.b=b\n",
    "\n",
    "    def area(self):\n",
    "        return self.l*self.b\n",
    "\n",
    "class Circle(Shape):\n",
    "    def __init__(self,r):\n",
    "        self.r=r\n",
    "\n",
    "    def area(self):\n",
    "        return 3.14*self.r*self.r \n",
    "\n",
    "def Area_called(shape):\n",
    "    print(f\"area is {shape.area()}\")\n",
    "\n",
    "# object created \n",
    "\n",
    "r1=Rectangle(10,20)\n",
    "c1=Circle(10)\n",
    "\n",
    "Area_called(r1)\n",
    "Area_called(c1)\n"
   ]
  },
  {
   "cell_type": "code",
   "execution_count": null,
   "metadata": {},
   "outputs": [],
   "source": []
  }
 ],
 "metadata": {
  "kernelspec": {
   "display_name": "Python 3",
   "language": "python",
   "name": "python3"
  },
  "language_info": {
   "codemirror_mode": {
    "name": "ipython",
    "version": 3
   },
   "file_extension": ".py",
   "mimetype": "text/x-python",
   "name": "python",
   "nbconvert_exporter": "python",
   "pygments_lexer": "ipython3",
   "version": "3.12.0"
  }
 },
 "nbformat": 4,
 "nbformat_minor": 2
}
