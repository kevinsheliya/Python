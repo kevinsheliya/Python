{
 "cells": [
  {
   "cell_type": "code",
   "execution_count": 2,
   "metadata": {},
   "outputs": [
    {
     "name": "stdout",
     "output_type": "stream",
     "text": [
      "Defaulting to user installation because normal site-packages is not writeable\n",
      "Requirement already satisfied: numpy in c:\\users\\d e l l\\appdata\\roaming\\python\\python313\\site-packages (2.2.0)\n"
     ]
    }
   ],
   "source": [
    "!pip install numpy\n",
    "import numpy as np"
   ]
  },
  {
   "cell_type": "code",
   "execution_count": 3,
   "metadata": {},
   "outputs": [
    {
     "data": {
      "text/plain": [
       "array([[19,  4,  9, 15,  7],\n",
       "       [16, 11, 12, 10, 11],\n",
       "       [16,  3, 18, 20, 14],\n",
       "       [ 9, 14, 11, 14,  3],\n",
       "       [ 1,  7,  7,  9, 14]], dtype=int32)"
      ]
     },
     "execution_count": 3,
     "metadata": {},
     "output_type": "execute_result"
    }
   ],
   "source": [
    "# orignal array\n",
    "arr1=np.random.randint(1,21 ,size=(5,5))\n",
    "arr1"
   ]
  },
  {
   "cell_type": "code",
   "execution_count": 4,
   "metadata": {},
   "outputs": [
    {
     "data": {
      "text/plain": [
       "array([[19,  4,  1, 15,  7],\n",
       "       [16, 11,  1, 10, 11],\n",
       "       [16,  3,  1, 20, 14],\n",
       "       [ 9, 14,  1, 14,  3],\n",
       "       [ 1,  7,  1,  9, 14]], dtype=int32)"
      ]
     },
     "execution_count": 4,
     "metadata": {},
     "output_type": "execute_result"
    }
   ],
   "source": [
    "#replace value\n",
    "arr1[:,2]=1\n",
    "arr1"
   ]
  },
  {
   "cell_type": "code",
   "execution_count": 5,
   "metadata": {},
   "outputs": [
    {
     "name": "stdout",
     "output_type": "stream",
     "text": [
      "[[ 7 11 13  3]\n",
      " [ 9  2  9  7]\n",
      " [ 3 12  2 11]\n",
      " [ 7 10  8 11]]\n",
      "\n",
      "\n",
      "[[ 0 11 13  3]\n",
      " [ 9  0  9  7]\n",
      " [ 3 12  0 11]\n",
      " [ 7 10  8  0]]\n"
     ]
    }
   ],
   "source": [
    "arr2=np.random.randint(1,16 ,size=(4,4))\n",
    "print(arr2)\n",
    "print('\\n')\n",
    "np.fill_diagonal(arr2,0)\n",
    "print(arr2)\n",
    "\n"
   ]
  },
  {
   "cell_type": "code",
   "execution_count": 6,
   "metadata": {},
   "outputs": [
    {
     "name": "stdout",
     "output_type": "stream",
     "text": [
      "[[ 5 13 10 26 14  3]\n",
      " [23 16 17 34  2 31]\n",
      " [ 8  6 17 17  4 27]\n",
      " [35  7 17  4 34 10]\n",
      " [18 16 17 33 29 11]\n",
      " [10 15 13  3 14 10]]\n"
     ]
    }
   ],
   "source": [
    "array=np.random.randint(1,36,size=(6,6))\n",
    "print(array)\n"
   ]
  },
  {
   "cell_type": "code",
   "execution_count": 7,
   "metadata": {},
   "outputs": [
    {
     "data": {
      "text/plain": [
       "array([[ 6, 17, 17],\n",
       "       [ 7, 17,  4],\n",
       "       [16, 17, 33]], dtype=int32)"
      ]
     },
     "execution_count": 7,
     "metadata": {},
     "output_type": "execute_result"
    }
   ],
   "source": [
    "array2=array[2:5,1:4]\n",
    "array2"
   ]
  },
  {
   "cell_type": "code",
   "execution_count": 8,
   "metadata": {},
   "outputs": [
    {
     "name": "stdout",
     "output_type": "stream",
     "text": [
      "[[ 6 11 18 14 19]\n",
      " [12 13 15  6  1]\n",
      " [13 17  9  8  8]\n",
      " [ 3 11 14 17  3]\n",
      " [17  6 14 19 11]]\n"
     ]
    }
   ],
   "source": [
    "array=np.random.randint(1,20,size=(5,5))\n",
    "print(array)"
   ]
  },
  {
   "cell_type": "code",
   "execution_count": 9,
   "metadata": {},
   "outputs": [
    {
     "data": {
      "text/plain": [
       "array([ 6, 12, 13,  3, 17], dtype=int32)"
      ]
     },
     "execution_count": 9,
     "metadata": {},
     "output_type": "execute_result"
    }
   ],
   "source": [
    "array[0:,0]"
   ]
  },
  {
   "cell_type": "code",
   "execution_count": 10,
   "metadata": {},
   "outputs": [
    {
     "data": {
      "text/plain": [
       "array([[ 6, 11, 18, 14, 19]], dtype=int32)"
      ]
     },
     "execution_count": 10,
     "metadata": {},
     "output_type": "execute_result"
    }
   ],
   "source": [
    "array[0:1,0:]"
   ]
  },
  {
   "cell_type": "code",
   "execution_count": 11,
   "metadata": {},
   "outputs": [
    {
     "data": {
      "text/plain": [
       "array([[19],\n",
       "       [ 1],\n",
       "       [ 8],\n",
       "       [ 3],\n",
       "       [11]], dtype=int32)"
      ]
     },
     "execution_count": 11,
     "metadata": {},
     "output_type": "execute_result"
    }
   ],
   "source": [
    "array[0:,4:]"
   ]
  },
  {
   "cell_type": "code",
   "execution_count": 12,
   "metadata": {},
   "outputs": [
    {
     "data": {
      "text/plain": [
       "array([[17,  6, 14, 19, 11]], dtype=int32)"
      ]
     },
     "execution_count": 12,
     "metadata": {},
     "output_type": "execute_result"
    }
   ],
   "source": [
    "array[4:,0:]"
   ]
  },
  {
   "cell_type": "code",
   "execution_count": 13,
   "metadata": {},
   "outputs": [
    {
     "ename": "ValueError",
     "evalue": "all the input arrays must have same number of dimensions, but the array at index 0 has 1 dimension(s) and the array at index 1 has 2 dimension(s)",
     "output_type": "error",
     "traceback": [
      "\u001b[1;31m---------------------------------------------------------------------------\u001b[0m",
      "\u001b[1;31mValueError\u001b[0m                                Traceback (most recent call last)",
      "Cell \u001b[1;32mIn[13], line 1\u001b[0m\n\u001b[1;32m----> 1\u001b[0m B_elements\u001b[38;5;241m=\u001b[39m\u001b[43mnp\u001b[49m\u001b[38;5;241;43m.\u001b[39;49m\u001b[43mconcatenate\u001b[49m\u001b[43m(\u001b[49m\u001b[43m(\u001b[49m\u001b[43marray\u001b[49m\u001b[43m[\u001b[49m\u001b[38;5;241;43m0\u001b[39;49m\u001b[43m:\u001b[49m\u001b[43m,\u001b[49m\u001b[38;5;241;43m0\u001b[39;49m\u001b[43m]\u001b[49m\u001b[43m,\u001b[49m\u001b[43marray\u001b[49m\u001b[43m[\u001b[49m\u001b[38;5;241;43m0\u001b[39;49m\u001b[43m:\u001b[49m\u001b[38;5;241;43m1\u001b[39;49m\u001b[43m,\u001b[49m\u001b[38;5;241;43m0\u001b[39;49m\u001b[43m:\u001b[49m\u001b[43m]\u001b[49m\u001b[43m,\u001b[49m\u001b[43marray\u001b[49m\u001b[43m[\u001b[49m\u001b[38;5;241;43m0\u001b[39;49m\u001b[43m:\u001b[49m\u001b[38;5;241;43m4\u001b[39;49m\u001b[43m]\u001b[49m\u001b[43m,\u001b[49m\u001b[43marray\u001b[49m\u001b[43m[\u001b[49m\u001b[38;5;241;43m4\u001b[39;49m\u001b[43m:\u001b[49m\u001b[43m,\u001b[49m\u001b[38;5;241;43m0\u001b[39;49m\u001b[43m:\u001b[49m\u001b[43m]\u001b[49m\u001b[43m)\u001b[49m\u001b[43m)\u001b[49m\n\u001b[0;32m      2\u001b[0m \u001b[38;5;28mprint\u001b[39m(B_elements)\n",
      "\u001b[1;31mValueError\u001b[0m: all the input arrays must have same number of dimensions, but the array at index 0 has 1 dimension(s) and the array at index 1 has 2 dimension(s)"
     ]
    }
   ],
   "source": [
    "B_elements=np.concatenate((array[0:,0],array[0:1,0:],array[0:4],array[4:,0:]))\n",
    "print(B_elements)"
   ]
  },
  {
   "cell_type": "code",
   "execution_count": null,
   "metadata": {},
   "outputs": [],
   "source": []
  },
  {
   "cell_type": "code",
   "execution_count": 28,
   "metadata": {},
   "outputs": [
    {
     "name": "stdout",
     "output_type": "stream",
     "text": [
      "Original array:\n",
      "[[13 11 20 11  8]\n",
      " [14  3 20  1  8]\n",
      " [ 5  2  6  2 15]\n",
      " [16  2 20 18 11]\n",
      " [ 6  5 11  5  3]]\n",
      "Border elements:\n",
      "[13 11 20 11  8  6  5 11  5  3 14  5 16  8 15 11]\n"
     ]
    }
   ],
   "source": [
    "# Create a NumPy array of shape (5, 5) with random integers\n",
    "array = np.random.randint(1, 21, size=(5, 5))\n",
    "print(\"Original array:\")\n",
    "print(array)\n",
    "\n",
    "# Extract the elements on the border\n",
    "border_elements = np.concatenate((array[0, :], array[-1, :], array[1:-1, 0], array[1:-1, -1]))\n",
    "print(\"Border elements:\")\n",
    "print(border_elements)"
   ]
  },
  {
   "cell_type": "code",
   "execution_count": 29,
   "metadata": {},
   "outputs": [
    {
     "name": "stdout",
     "output_type": "stream",
     "text": [
      "array 1st :\n",
      "  [[ 5  6  9 11]\n",
      " [ 1  2  4  3]\n",
      " [ 3  6 11  3]]\n",
      "array 2nd : \n",
      " [[ 4  7  2 11]\n",
      " [ 8  8  2 10]\n",
      " [ 4  8  5  1]]\n",
      "addition : \n",
      " [[ 9 13 11 22]\n",
      " [ 9 10  6 13]\n",
      " [ 7 14 16  4]]\n",
      "subtraction : \n",
      " [[ 1 -1  7  0]\n",
      " [-7 -6  2 -7]\n",
      " [-1 -2  6  2]]\n",
      "division : \n",
      " [[ 1 -1  7  0]\n",
      " [-7 -6  2 -7]\n",
      " [-1 -2  6  2]]\n",
      "multiplication : \n",
      " [[ 20  42  18 121]\n",
      " [  8  16   8  30]\n",
      " [ 12  48  55   3]]\n"
     ]
    }
   ],
   "source": [
    "arr1=np.random.randint(1,12,size=(3,4))\n",
    "arr2=np.random.randint(1,12,size=(3,4))\n",
    "print(\"array 1st :\\n \",arr1)\n",
    "print(\"array 2nd : \\n\",arr2)\n",
    "\n",
    "print(\"addition : \\n\",arr1+arr2)\n",
    "print(\"subtraction : \\n\",arr1-arr2)\n",
    "print(\"division : \\n\",arr1-arr2)\n",
    "print(\"multiplication : \\n\",arr1*arr2)"
   ]
  },
  {
   "cell_type": "code",
   "execution_count": 43,
   "metadata": {},
   "outputs": [
    {
     "name": "stdout",
     "output_type": "stream",
     "text": [
      "[[ 3  3  9  1]\n",
      " [ 1  5 14  5]\n",
      " [10 15 11  3]\n",
      " [13 13  8 14]]\n",
      "addtion row : [16 25 39 48]\n",
      "addition column : [27 36 42 23]\n",
      "addition_row : [16 25 39 48]\n",
      "addition column : [27 36 42 23]\n"
     ]
    }
   ],
   "source": [
    "array1=np.random.randint(1,16,size=(4,4))\n",
    "print(array1)\n",
    "\n",
    "row_sum = np.sum(array1, axis=1)\n",
    "col_sum = np.sum(array1,axis=0)\n",
    "print(\"addtion row :\",row_sum)\n",
    "print(\"addition column :\",col_sum)\n",
    "\n",
    "print(\"addition_row :\",np.sum(array1[0:,0:5],axis=1))\n",
    "print(\"addition column :\",np.sum(array1[0:5,0:],axis=0))"
   ]
  },
  {
   "cell_type": "code",
   "execution_count": 48,
   "metadata": {},
   "outputs": [
    {
     "name": "stdout",
     "output_type": "stream",
     "text": [
      "[[22 14  7 18 17]\n",
      " [ 9 19 22 11 18]\n",
      " [19  8  2 22 24]\n",
      " [ 4 10 18 11 13]\n",
      " [19 15  3 14 18]]\n",
      "mean :  14.28\n",
      "median : 15.0\n",
      "standard deviation : 6.161298564426171\n",
      "variance : 37.9616\n"
     ]
    }
   ],
   "source": [
    "array=np.random.randint(1,25,size=(5,5))\n",
    "print(array)\n",
    "\n",
    "print(\"mean : \",np.mean(array))\n",
    "print(\"median :\",np.median(array))\n",
    "print(\"standard deviation :\",np.std(array))\n",
    "print(\"variance :\",np.var(array))"
   ]
  },
  {
   "cell_type": "code",
   "execution_count": 49,
   "metadata": {},
   "outputs": [
    {
     "name": "stdout",
     "output_type": "stream",
     "text": [
      "[[7 6 8]\n",
      " [2 5 6]\n",
      " [2 7 8]]\n",
      "normalization : [[ 0.6172134   0.15430335  1.08012345]\n",
      " [-1.69733685 -0.3086067   0.15430335]\n",
      " [-1.69733685  0.6172134   1.08012345]]\n"
     ]
    }
   ],
   "source": [
    "array=np.random.randint(1,9,size=(3,3))\n",
    "print(array)\n",
    "\n",
    "mean=np.mean(array)\n",
    "std=np.std(array)\n",
    "normalization=(array-mean)/std\n",
    "print(\"normalization :\",normalization)"
   ]
  },
  {
   "cell_type": "code",
   "execution_count": 50,
   "metadata": {},
   "outputs": [
    {
     "name": "stdout",
     "output_type": "stream",
     "text": [
      "[[2 2 3]\n",
      " [1 2 5]\n",
      " [4 7 8]]\n",
      "[1 3 7]\n",
      "sum_arr :\n",
      " [[ 3  5 10]\n",
      " [ 2  5 12]\n",
      " [ 5 10 15]]\n"
     ]
    }
   ],
   "source": [
    "arr1=np.random.randint(1,9,size=(3,3))\n",
    "arr2=np.random.randint(1,9,size=(3,))\n",
    "\n",
    "print(arr1)\n",
    "print(arr2)\n",
    "\n",
    "sum_arr=arr1+arr2\n",
    "print(\"sum_arr :\\n\",sum_arr)"
   ]
  },
  {
   "cell_type": "code",
   "execution_count": 52,
   "metadata": {},
   "outputs": [
    {
     "name": "stdout",
     "output_type": "stream",
     "text": [
      "[[11  8 15 12]\n",
      " [ 3 15 10  3]\n",
      " [ 4  6 13  9]\n",
      " [ 9  1  7 10]]\n",
      "[14  4 14 12]\n",
      "sum_arr : [[ -3   4   1   0]\n",
      " [-11  11  -4  -9]\n",
      " [-10   2  -1  -3]\n",
      " [ -5  -3  -7  -2]]\n"
     ]
    }
   ],
   "source": [
    "arr1=np.random.randint(1,16,size=(4,4))\n",
    "arr2=np.random.randint(1,16,size=(4,))\n",
    "print(arr1)\n",
    "print(arr2)\n",
    "\n",
    "sub_arr=arr1-arr2\n",
    "print(\"sum_arr :\",sub_arr)\n"
   ]
  },
  {
   "cell_type": "code",
   "execution_count": 57,
   "metadata": {},
   "outputs": [
    {
     "name": "stdout",
     "output_type": "stream",
     "text": [
      "[[ 4  4 10]\n",
      " [ 8  1  6]\n",
      " [ 6  6  4]]\n",
      "determination : 307.9999999999999\n",
      "inverse : [[-1.03896104e-01  1.42857143e-01  4.54545455e-02]\n",
      " [ 1.29870130e-02 -1.42857143e-01  1.81818182e-01]\n",
      " [ 1.36363636e-01 -3.78485122e-18 -9.09090909e-02]]\n",
      "eigenvalues : EigResult(eigenvalues=array([16.45682401+0.j       , -3.728412  +2.1942161j,\n",
      "       -3.728412  -2.1942161j]), eigenvectors=array([[ 0.62509315+0.j        ,  0.24675003-0.52152717j,\n",
      "         0.24675003+0.52152717j],\n",
      "       [ 0.5416837 +0.j        , -0.65126562+0.j        ,\n",
      "        -0.65126562-0.j        ],\n",
      "       [ 0.56199406+0.j        ,  0.18424199+0.45719997j,\n",
      "         0.18424199-0.45719997j]]))\n"
     ]
    }
   ],
   "source": [
    "matrix=np.random.randint(1,11,size=(3,3))\n",
    "print(matrix)\n",
    "\n",
    "determinant=np.linalg.det(matrix)\n",
    "print(\"determination :\",determinant)\n",
    "\n",
    "inverse=np.linalg.inv(matrix)\n",
    "print(\"inverse :\",inverse)\n",
    "\n",
    "eigenvalues=np.linalg.eig(matrix)\n",
    "print(\"eigenvalues :\",eigenvalues)"
   ]
  },
  {
   "cell_type": "code",
   "execution_count": 64,
   "metadata": {},
   "outputs": [
    {
     "name": "stdout",
     "output_type": "stream",
     "text": [
      "array 1: \n",
      " [[10  9  5]\n",
      " [ 4  7  2]]\n",
      "array 2: \n",
      "  [[7 5]\n",
      " [3 7]\n",
      " [3 7]]\n",
      "[[112 148]\n",
      " [ 55  83]]\n"
     ]
    }
   ],
   "source": [
    "arr1=np.random.randint(1,11,size=(2,3))\n",
    "arr2=np.random.randint(1,11,size=(3,2))\n",
    "print(\"array 1: \\n\",arr1)\n",
    "print(\"array 2: \\n \",arr2)\n",
    "\n",
    "# matrix multiplication\n",
    "multiplication=np.dot(arr1,arr2)\n",
    "print(multiplication)"
   ]
  },
  {
   "cell_type": "code",
   "execution_count": 67,
   "metadata": {},
   "outputs": [
    {
     "name": "stdout",
     "output_type": "stream",
     "text": [
      "[[3 8 6]\n",
      " [6 3 2]\n",
      " [6 3 2]]\n",
      "resize : \n",
      " [[3 8 6 6 3 2 6 3 2]]\n",
      "resize : \n",
      " [[3]\n",
      " [8]\n",
      " [6]\n",
      " [6]\n",
      " [3]\n",
      " [2]\n",
      " [6]\n",
      " [3]\n",
      " [2]]\n"
     ]
    }
   ],
   "source": [
    "array=np.random.randint(1,9,size=(3,3))\n",
    "print(array)\n",
    "\n",
    "resize=array.reshape(1,9)\n",
    "print(\"resize : \\n\",resize)\n",
    "\n",
    "resize=array.reshape(9,1)\n",
    "print(\"resize : \\n\",resize)"
   ]
  },
  {
   "cell_type": "code",
   "execution_count": 68,
   "metadata": {},
   "outputs": [
    {
     "name": "stdout",
     "output_type": "stream",
     "text": [
      "[[ 4 12 21 14 21]\n",
      " [ 1  3 21 19 13]\n",
      " [10  7 10 15  7]\n",
      " [13  8  6 15 11]\n",
      " [10 16 16  3 20]]\n",
      "flatter_arr : \n",
      " [ 4 12 21 14 21  1  3 21 19 13 10  7 10 15  7 13  8  6 15 11 10 16 16  3\n",
      " 20]\n",
      "reshape arr :\n",
      " [[ 4 12 21 14 21]\n",
      " [ 1  3 21 19 13]\n",
      " [10  7 10 15  7]\n",
      " [13  8  6 15 11]\n",
      " [10 16 16  3 20]]\n"
     ]
    }
   ],
   "source": [
    "array=np.random.randint(1,25,size=(5,5))\n",
    "print(array)\n",
    "\n",
    "flatter_arr=array.flatten()\n",
    "print(\"flatter_arr : \\n\",flatter_arr)\n",
    "\n",
    "reshape_arr=flatter_arr.reshape(5,5)\n",
    "print(\"reshape arr :\\n\",reshape_arr)"
   ]
  },
  {
   "cell_type": "code",
   "execution_count": 69,
   "metadata": {},
   "outputs": [
    {
     "name": "stdout",
     "output_type": "stream",
     "text": [
      "[[ 4 10  9  4  8]\n",
      " [ 5  4  4 10  2]\n",
      " [ 9  9  8  7  3]\n",
      " [ 3  2  6  6  5]\n",
      " [ 8  6  2  6  2]]\n",
      "[4 8 8 2]\n"
     ]
    }
   ],
   "source": [
    "array=np.random.randint(1,11,size=(5,5))\n",
    "print(array)\n",
    "\n",
    "corners=array[[0,0,-1,-1],[0,-1,0,-1]]\n",
    "print(corners)"
   ]
  },
  {
   "cell_type": "code",
   "execution_count": 73,
   "metadata": {},
   "outputs": [
    {
     "name": "stdout",
     "output_type": "stream",
     "text": [
      "[4 8]\n"
     ]
    }
   ],
   "source": [
    "corners=array[[0,0],[0,-1]]\n",
    "print(corners)"
   ]
  },
  {
   "cell_type": "code",
   "execution_count": 75,
   "metadata": {},
   "outputs": [
    {
     "name": "stdout",
     "output_type": "stream",
     "text": [
      "[[11 12 15  5]\n",
      " [13  4  5 10]\n",
      " [14  4 10  8]\n",
      " [11  9 11  5]]\n",
      "modified array : [[10 10 10  5]\n",
      " [10  4  5 10]\n",
      " [10  4 10  8]\n",
      " [10  9 10  5]]\n"
     ]
    }
   ],
   "source": [
    "array=np.random.randint(1,16,size=(4,4))\n",
    "print(array)\n",
    "\n",
    "array[array > 10] = 10\n",
    "print(\"modified array :\",array)"
   ]
  },
  {
   "cell_type": "code",
   "execution_count": 21,
   "metadata": {},
   "outputs": [
    {
     "name": "stdout",
     "output_type": "stream",
     "text": [
      "[('Alice', 25, 55.5) ('Bob', 30, 85.3) ('Charlie', 20, 65.2)]\n",
      "sorted_data :\n",
      " [('Charlie', 20, 65.2) ('Alice', 25, 55.5) ('Bob', 30, 85.3)]\n"
     ]
    }
   ],
   "source": [
    "data_type = [('name', 'U10'), ('age', 'i4'), ('weight', 'f4')]\n",
    "data = np.array([('Alice', 25, 55.5), ('Bob', 30, 85.3), ('Charlie', 20, 65.2)], dtype=data_type)\n",
    "print(data)\n",
    "\n",
    "sorted_data=np.sort(data,order='age')\n",
    "print(\"sorted_data :\\n\",sorted_data)"
   ]
  },
  {
   "cell_type": "code",
   "execution_count": 25,
   "metadata": {},
   "outputs": [
    {
     "name": "stdout",
     "output_type": "stream",
     "text": [
      "[(2, 4) (5, 7) (8, 4)]\n",
      "Euclidean distances:\n",
      "[[0.         4.24264069 6.        ]\n",
      " [4.24264069 0.         4.24264069]\n",
      " [6.         4.24264069 0.        ]]\n"
     ]
    }
   ],
   "source": [
    "data_type=[('x','i4'),('y','i4')]\n",
    "data=np.array([(2,4),(5,7),(8,4)], dtype=data_type)\n",
    "print(data)\n",
    "\n",
    "distances = np.sqrt((data['x'][:, np.newaxis] - data['x'])**2 + (data['y'][:, np.newaxis] - data['y'])**2)\n",
    "print(\"Euclidean distances:\")\n",
    "print(distances)"
   ]
  },
  {
   "cell_type": "code",
   "execution_count": 26,
   "metadata": {},
   "outputs": [
    {
     "name": "stdout",
     "output_type": "stream",
     "text": [
      "array : \n",
      " [[ 8 11  9 14]\n",
      " [11  2  9 14]\n",
      " [17  9 10 15]\n",
      " [ 1  2  2  9]]\n",
      "mask_arrat :\n",
      " [[8 -- 9 --]\n",
      " [-- 2 9 --]\n",
      " [-- 9 10 --]\n",
      " [1 2 2 9]]\n",
      "sum_unmask :\n",
      " 61\n"
     ]
    }
   ],
   "source": [
    "import numpy.ma as ma\n",
    "\n",
    "data=np.random.randint(1,21 ,size=(4,4))\n",
    "mask_Array=ma.masked_greater(data,10)\n",
    "print(\"array : \\n\",data)\n",
    "print(\"mask_arrat :\\n\",mask_Array)\n",
    "\n",
    "sum_unmask=mask_Array.sum()\n",
    "print(\"sum_unmask :\\n\",sum_unmask)\n",
    "\n",
    "\n"
   ]
  },
  {
   "cell_type": "code",
   "execution_count": null,
   "metadata": {},
   "outputs": [],
   "source": []
  },
  {
   "cell_type": "code",
   "execution_count": null,
   "metadata": {},
   "outputs": [],
   "source": []
  },
  {
   "cell_type": "code",
   "execution_count": null,
   "metadata": {},
   "outputs": [],
   "source": []
  }
 ],
 "metadata": {
  "kernelspec": {
   "display_name": "Python 3",
   "language": "python",
   "name": "python3"
  },
  "language_info": {
   "codemirror_mode": {
    "name": "ipython",
    "version": 3
   },
   "file_extension": ".py",
   "mimetype": "text/x-python",
   "name": "python",
   "nbconvert_exporter": "python",
   "pygments_lexer": "ipython3",
   "version": "3.13.1"
  }
 },
 "nbformat": 4,
 "nbformat_minor": 2
}
