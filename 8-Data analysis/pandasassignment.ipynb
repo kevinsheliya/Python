{
 "cells": [
  {
   "cell_type": "code",
   "execution_count": 2,
   "metadata": {},
   "outputs": [
    {
     "name": "stdout",
     "output_type": "stream",
     "text": [
      "    A   B   C   D\n",
      "0   6  47  86  52\n",
      "1  70  31  64  96\n",
      "2  27  91  98  91\n",
      "3  41  94  88  44\n",
      "4  47  78  86  47\n",
      "5  26  49  97  73\n",
      "set index :\n",
      "\n",
      "     B   C   D\n",
      "A             \n",
      "6   47  86  52\n",
      "70  31  64  96\n",
      "27  91  98  91\n",
      "41  94  88  44\n",
      "47  78  86  47\n",
      "26  49  97  73\n"
     ]
    }
   ],
   "source": [
    "import pandas as pd\n",
    "import numpy as np\n",
    "\n",
    "df=pd.DataFrame(np.random.randint(1,100, size=(6,4)),columns=['A','B','C','D'])\n",
    "print(df)\n",
    "\n",
    "df.set_index('A',inplace=True)\n",
    "print(\"set index :\\n\")\n",
    "print(df)"
   ]
  },
  {
   "cell_type": "code",
   "execution_count": 3,
   "metadata": {},
   "outputs": [
    {
     "name": "stdout",
     "output_type": "stream",
     "text": [
      "original data : \n",
      "     A   B   C\n",
      "X  98  15  97\n",
      "Y  50  92  26\n",
      "Z  30  90  48\n",
      "element y rows and b cols : 92\n"
     ]
    }
   ],
   "source": [
    "df=pd.DataFrame(np.random.randint(1,100 ,size=(3,3)),columns=['A','B','C'],index=['X','Y','Z'])\n",
    "print(\"original data : \\n\",df)\n",
    "\n",
    "element=df.at['Y','B']\n",
    "print(\"element y rows and b cols :\",element)"
   ]
  },
  {
   "cell_type": "code",
   "execution_count": 4,
   "metadata": {},
   "outputs": [
    {
     "name": "stdout",
     "output_type": "stream",
     "text": [
      "    A   B   C\n",
      "0  24  97   5\n",
      "1  27  63  17\n",
      "2  30  84  69\n",
      "3  26  30  82\n",
      "4  63  10  12\n",
      "additng a new columns : \n",
      "     A   B   C     D\n",
      "0  24  97   5  2328\n",
      "1  27  63  17  1701\n",
      "2  30  84  69  2520\n",
      "3  26  30  82   780\n",
      "4  63  10  12   630\n"
     ]
    }
   ],
   "source": [
    "df=pd.DataFrame(np.random.randint(1,100,size=(5,3)),columns=['A','B','C'])\n",
    "print(df)\n",
    "\n",
    "df['D']=df['A']*df['B']\n",
    "print(\"additng a new columns : \\n\",df)\n",
    "\n"
   ]
  },
  {
   "cell_type": "code",
   "execution_count": 5,
   "metadata": {},
   "outputs": [
    {
     "name": "stdout",
     "output_type": "stream",
     "text": [
      "   A  B  C\n",
      "0  6  4  8\n",
      "1  3  2  2\n",
      "2  5  7  3\n",
      "3  1  5  2\n",
      "4  3  1  4\n",
      "row_sum : \n",
      " 0    18\n",
      "1     7\n",
      "2    15\n",
      "3     8\n",
      "4     8\n",
      "dtype: int64\n",
      "column sum : \n",
      " A    18\n",
      "B    19\n",
      "C    19\n",
      "dtype: int64\n"
     ]
    }
   ],
   "source": [
    "\n",
    "df=pd.DataFrame(np.random.randint(1,10 ,size=(5,3)),columns=['A','B','C'])\n",
    "print(df)\n",
    "\n",
    "row_sum=df.sum(axis=1)\n",
    "print(\"row_sum : \\n\",row_sum)\n",
    "\n",
    "cols_sum=df.sum(axis=0)\n",
    "print(\"column sum : \\n\",cols_sum)\n"
   ]
  },
  {
   "cell_type": "code",
   "execution_count": 6,
   "metadata": {},
   "outputs": [
    {
     "name": "stdout",
     "output_type": "stream",
     "text": [
      "   A  B  C\n",
      "0  9  5  8\n",
      "1  8  8  2\n",
      "2  7  5  1\n",
      "3  9  2  1\n",
      "4  6  5  3\n",
      "null value :\n",
      "      A    B    C\n",
      "0  9.0  NaN  8.0\n",
      "1  8.0  8.0  NaN\n",
      "2  7.0  5.0  1.0\n",
      "3  9.0  2.0  1.0\n",
      "4  NaN  5.0  3.0\n",
      "mean value :\n",
      " A    8.25\n",
      "B    5.00\n",
      "C    3.25\n",
      "dtype: float64\n",
      "null value fill with mean :\n",
      "       A    B     C\n",
      "0  9.00  5.0  8.00\n",
      "1  8.00  8.0  3.25\n",
      "2  7.00  5.0  1.00\n",
      "3  9.00  2.0  1.00\n",
      "4  8.25  5.0  3.00\n"
     ]
    }
   ],
   "source": [
    "df=pd.DataFrame(np.random.randint(1,10,size=(5,3)),columns=['A','B','C'])\n",
    "print(df)\n",
    "\n",
    "df.iloc[0,1]=np.nan\n",
    "df.iloc[1,2]=np.nan\n",
    "df.iloc[4,0]=np.nan\n",
    "print(\"null value :\\n\",df)\n",
    "print(\"mean value :\\n\",df.mean())\n",
    "\n",
    "df.fillna(df.mean(),inplace=True)\n",
    "print(\"null value fill with mean :\\n\",df)"
   ]
  },
  {
   "cell_type": "code",
   "execution_count": 7,
   "metadata": {},
   "outputs": [
    {
     "name": "stdout",
     "output_type": "stream",
     "text": [
      "   A  B  C\n",
      "0  5  6  1\n",
      "1  5  4  7\n",
      "2  7  8  9\n",
      "3  5  4  1\n",
      "4  2  4  3\n",
      "null value :\n",
      "      A    B    C\n",
      "0  5.0  NaN  1.0\n",
      "1  5.0  4.0  NaN\n",
      "2  7.0  8.0  9.0\n",
      "3  5.0  4.0  1.0\n",
      "4  NaN  4.0  3.0\n",
      "null value fill with mean :\n",
      "      A    B    C\n",
      "2  7.0  8.0  9.0\n",
      "3  5.0  4.0  1.0\n"
     ]
    }
   ],
   "source": [
    "df=pd.DataFrame(np.random.randint(1,10,size=(5,3)),columns=['A','B','C'])\n",
    "print(df)\n",
    "\n",
    "df.iloc[0,1]=np.nan\n",
    "df.iloc[1,2]=np.nan\n",
    "df.iloc[4,0]=np.nan\n",
    "print(\"null value :\\n\",df)\n",
    "\n",
    "df.dropna(inplace=True)\n",
    "print(\"null value fill with mean :\\n\",df)"
   ]
  },
  {
   "cell_type": "code",
   "execution_count": 8,
   "metadata": {},
   "outputs": [
    {
     "name": "stdout",
     "output_type": "stream",
     "text": [
      "  Category  Values\n",
      "0        A      32\n",
      "1        C       4\n",
      "2        C      13\n",
      "3        C      39\n",
      "4        B      22\n",
      "5        A      22\n",
      "6        A      36\n",
      "7        C      49\n",
      "8        C      15\n",
      "9        C      11\n",
      "group by value : Category\n",
      "A     90\n",
      "B     22\n",
      "C    131\n",
      "Name: Values, dtype: int32\n"
     ]
    }
   ],
   "source": [
    "df=pd.DataFrame({'Category': np.random.choice(['A','B','C'],size=10),'Values':np.random.randint(1,50,size=10)})\n",
    "print(df)\n",
    "\n",
    "group_by=df.groupby('Category')['Values'].agg('sum','mean')\n",
    "print(\"group by value :\",group_by)"
   ]
  },
  {
   "cell_type": "code",
   "execution_count": 9,
   "metadata": {},
   "outputs": [
    {
     "name": "stdout",
     "output_type": "stream",
     "text": [
      "      Product Category  sales\n",
      "0  electrical        A      1\n",
      "1        Home        B      8\n",
      "2  electrical        C      6\n",
      "3        Home        C     18\n",
      "4     grosary        C     10\n",
      "5  electrical        A     16\n",
      "6  electrical        B     15\n",
      "7  electrical        B      9\n",
      "8  electrical        C     16\n",
      "9  electrical        C     15\n",
      "Category\n",
      "A    17\n",
      "B    32\n",
      "C    65\n",
      "Name: sales, dtype: int32\n"
     ]
    }
   ],
   "source": [
    "df=pd.DataFrame({'Product': np.random.choice(['Home','grosary','electrical'],size=10),'Category':np.random.choice(['A','B','C'],size=10),'sales':np.random.randint(1,20,size=10)})\n",
    "print(df)\n",
    "\n",
    "group_by=df.groupby('Category')['sales'].sum()\n",
    "print(group_by)\n"
   ]
  },
  {
   "cell_type": "code",
   "execution_count": 10,
   "metadata": {},
   "outputs": [
    {
     "name": "stdout",
     "output_type": "stream",
     "text": [
      "data frame 1st:    Key  Value1\n",
      "0   A      52\n",
      "1   B      54\n",
      "2   C      19\n",
      "3   D      72\n",
      "data frame 2nd:    Key  Value2\n",
      "0   A      34\n",
      "1   B      63\n",
      "2   C      39\n",
      "3   E      89\n",
      "merge data :\n",
      "   Key  Value1  Value2\n",
      "0   A      52      34\n",
      "1   B      54      63\n",
      "2   C      19      39\n"
     ]
    }
   ],
   "source": [
    "df1 = pd.DataFrame({'Key': ['A', 'B', 'C', 'D'], 'Value1': np.random.randint(1, 100, size=4)})\n",
    "df2 = pd.DataFrame({'Key': ['A', 'B', 'C', 'E'], 'Value2': np.random.randint(1, 100, size=4)})\n",
    "print(\"data frame 1st: \",df1)\n",
    "print(\"data frame 2nd: \",df2)\n",
    "\n",
    "merge=pd.merge(df1,df2,on='Key')\n",
    "print(\"merge data :\\n\",merge)"
   ]
  },
  {
   "cell_type": "code",
   "execution_count": 13,
   "metadata": {},
   "outputs": [
    {
     "name": "stdout",
     "output_type": "stream",
     "text": [
      "df1 : \n",
      "     A   B\n",
      "0   7  27\n",
      "1  10   9\n",
      "2  51  31\n",
      "3  68  11\n",
      "4  56  87\n",
      "df2 : \n",
      "     C   D\n",
      "0  76  94\n",
      "1   9  37\n",
      "2  86  89\n",
      "3  11  76\n",
      "4  76  18\n",
      "merge_row : \n",
      "       A     B     C     D\n",
      "0   7.0  27.0   NaN   NaN\n",
      "1  10.0   9.0   NaN   NaN\n",
      "2  51.0  31.0   NaN   NaN\n",
      "3  68.0  11.0   NaN   NaN\n",
      "4  56.0  87.0   NaN   NaN\n",
      "0   NaN   NaN  76.0  94.0\n",
      "1   NaN   NaN   9.0  37.0\n",
      "2   NaN   NaN  86.0  89.0\n",
      "3   NaN   NaN  11.0  76.0\n",
      "4   NaN   NaN  76.0  18.0\n",
      "merge column : \n",
      "     A   B   C   D\n",
      "0   7  27  76  94\n",
      "1  10   9   9  37\n",
      "2  51  31  86  89\n",
      "3  68  11  11  76\n",
      "4  56  87  76  18\n"
     ]
    }
   ],
   "source": [
    "df1=pd.DataFrame({'A':np.random.randint(1,100,size=5),'B':np.random.randint(1,100,size=5)})\n",
    "df2=pd.DataFrame({'C':np.random.randint(1,100,size=5),'D':np.random.randint(1,100,size=5)})\n",
    "print(\"df1 : \\n\",df1)\n",
    "print(\"df2 : \\n\",df2)\n",
    "\n",
    "merge_row=pd.concat([df1,df2],axis=0)\n",
    "print(\"merge_row : \\n\",merge_row)\n",
    "\n",
    "merge_cols=pd.concat([df1,df2],axis=1)\n",
    "print(\"merge column : \\n\",merge_cols)\n",
    "\n"
   ]
  },
  {
   "cell_type": "code",
   "execution_count": 27,
   "metadata": {},
   "outputs": [
    {
     "name": "stdout",
     "output_type": "stream",
     "text": [
      "Original DataFrame:\n",
      "            data\n",
      "date            \n",
      "2022-01-01    80\n",
      "2022-01-02    80\n",
      "2022-01-03    60\n",
      "2022-01-04    22\n",
      "2022-01-05    52\n",
      "...          ...\n",
      "2022-12-27    65\n",
      "2022-12-28     1\n",
      "2022-12-29    20\n",
      "2022-12-30    67\n",
      "2022-12-31    70\n",
      "\n",
      "[365 rows x 1 columns]\n",
      "monthly_mean :\n",
      "                  data\n",
      "date                 \n",
      "2022-01-31  54.451613\n",
      "2022-02-28  47.750000\n",
      "2022-03-31  50.451613\n",
      "2022-04-30  43.333333\n",
      "2022-05-31  51.096774\n",
      "2022-06-30  52.800000\n",
      "2022-07-31  48.354839\n",
      "2022-08-31  46.129032\n",
      "2022-09-30  57.000000\n",
      "2022-10-31  49.935484\n",
      "2022-11-30  48.933333\n",
      "2022-12-31  51.677419\n"
     ]
    },
    {
     "name": "stderr",
     "output_type": "stream",
     "text": [
      "C:\\Users\\D E L L\\AppData\\Local\\Temp\\ipykernel_16904\\2101108633.py:8: FutureWarning: 'M' is deprecated and will be removed in a future version, please use 'ME' instead.\n",
      "  monthly_mean=df.resample('M').mean()\n"
     ]
    }
   ],
   "source": [
    "date_rng = pd.date_range(start='2022-01-01', end='2022-12-31', freq='D')\n",
    "df = pd.DataFrame(date_rng, columns=['date'])\n",
    "df['data'] = np.random.randint(0, 100, size=(len(date_rng)))\n",
    "df.set_index('date', inplace=True)\n",
    "print(\"Original DataFrame:\")\n",
    "print(df)\n",
    "\n",
    "monthly_mean=df.resample('M').mean()\n",
    "print('monthly_mean :\\n',monthly_mean)\n"
   ]
  },
  {
   "cell_type": "code",
   "execution_count": 35,
   "metadata": {},
   "outputs": [
    {
     "name": "stdout",
     "output_type": "stream",
     "text": [
      "            data\n",
      "date            \n",
      "2021-01-01    64\n",
      "2021-01-02    40\n",
      "2021-01-03    87\n",
      "2021-01-04    85\n",
      "2021-01-05    80\n",
      "...          ...\n",
      "2021-12-27    32\n",
      "2021-12-28    58\n",
      "2021-12-29    32\n",
      "2021-12-30    98\n",
      "2021-12-31     3\n",
      "\n",
      "[365 rows x 1 columns]\n",
      "rolling_mean :\n",
      "                  data\n",
      "date                 \n",
      "2021-01-01        NaN\n",
      "2021-01-02        NaN\n",
      "2021-01-03        NaN\n",
      "2021-01-04        NaN\n",
      "2021-01-05        NaN\n",
      "...               ...\n",
      "2021-12-27  69.857143\n",
      "2021-12-28  66.285714\n",
      "2021-12-29  60.285714\n",
      "2021-12-30  66.285714\n",
      "2021-12-31  54.000000\n",
      "\n",
      "[365 rows x 1 columns]\n"
     ]
    }
   ],
   "source": [
    "date_rng=pd.date_range(start='2021-01-01',end='2021-12-31',freq='D')\n",
    "df=pd.DataFrame(date_rng,columns=['date'])\n",
    "df['data']=np.random.randint(0,100,size=(len(date_rng)))\n",
    "df.set_index('date',inplace=True)\n",
    "print(df)\n",
    "\n",
    "rolling_mean=df.rolling(window=7).mean()\n",
    "print(\"rolling_mean :\\n\",rolling_mean)"
   ]
  },
  {
   "cell_type": "code",
   "execution_count": null,
   "metadata": {},
   "outputs": [],
   "source": []
  },
  {
   "cell_type": "code",
   "execution_count": null,
   "metadata": {},
   "outputs": [],
   "source": []
  },
  {
   "cell_type": "code",
   "execution_count": null,
   "metadata": {},
   "outputs": [],
   "source": []
  },
  {
   "cell_type": "code",
   "execution_count": null,
   "metadata": {},
   "outputs": [],
   "source": []
  },
  {
   "cell_type": "code",
   "execution_count": null,
   "metadata": {},
   "outputs": [],
   "source": []
  }
 ],
 "metadata": {
  "kernelspec": {
   "display_name": "Python 3",
   "language": "python",
   "name": "python3"
  },
  "language_info": {
   "codemirror_mode": {
    "name": "ipython",
    "version": 3
   },
   "file_extension": ".py",
   "mimetype": "text/x-python",
   "name": "python",
   "nbconvert_exporter": "python",
   "pygments_lexer": "ipython3",
   "version": "3.13.1"
  }
 },
 "nbformat": 4,
 "nbformat_minor": 2
}
