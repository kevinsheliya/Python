{
 "cells": [
  {
   "cell_type": "code",
   "execution_count": 1,
   "metadata": {},
   "outputs": [],
   "source": [
    "import sqlite3"
   ]
  },
  {
   "cell_type": "code",
   "execution_count": 2,
   "metadata": {},
   "outputs": [
    {
     "name": "stdout",
     "output_type": "stream",
     "text": [
      "successfully datebase created\n"
     ]
    }
   ],
   "source": [
    "def createdatabase():\n",
    "    connection=sqlite3.connect('test.db')\n",
    "    cursor=connection.cursor()\n",
    "    connection.close()\n",
    "    print(\"successfully datebase created\")\n",
    "\n",
    "createdatabase()"
   ]
  },
  {
   "cell_type": "code",
   "execution_count": 4,
   "metadata": {},
   "outputs": [
    {
     "name": "stdout",
     "output_type": "stream",
     "text": [
      "table  employee successfull created\n"
     ]
    }
   ],
   "source": [
    "def cre_table():\n",
    "    connection=sqlite3.connect('test.db')\n",
    "    cursor=connection.cursor()\n",
    "    cursor.execute('''\n",
    "    CREATE TABLE IF NOT EXISTS employees(\n",
    "    id INTEGER Primary key,\n",
    "    name TEXT NOT NULL,\n",
    "    age INTEGER,\n",
    "    dept TEXT NOT NULL\n",
    "        )\n",
    "''')\n",
    "    connection.commit()\n",
    "    connection.close()\n",
    "    print(\"table  employee successfull created\")\n",
    "\n",
    "cre_table()    \n",
    "\n",
    "\n"
   ]
  },
  {
   "cell_type": "code",
   "execution_count": 6,
   "metadata": {},
   "outputs": [
    {
     "name": "stdout",
     "output_type": "stream",
     "text": [
      "insert record successfully\n"
     ]
    }
   ],
   "source": [
    "def inset_record(id,name,age,dept):\n",
    "    connection=sqlite3.connect('test.db')\n",
    "    cursor=connection.cursor()\n",
    "    cursor.execute('''\n",
    "    INSERT INTO employees (id, name, age, dept)\n",
    "        VALUES (?, ?, ?, ?)\n",
    "    ''', (id, name, age, dept)\n",
    ")\n",
    "    connection.commit()\n",
    "    connection.close()\n",
    "    print(\"insert record successfully\")\n",
    "\n",
    "\n",
    "inset_record(1,'john',38,'data science')"
   ]
  },
  {
   "cell_type": "code",
   "execution_count": 8,
   "metadata": {},
   "outputs": [
    {
     "name": "stdout",
     "output_type": "stream",
     "text": [
      "insert record successfully\n",
      "insert record successfully\n",
      "insert record successfully\n",
      "insert record successfully\n"
     ]
    }
   ],
   "source": [
    "inset_record(2, 'Bob', 25, 'Engineering')\n",
    "inset_record(3, 'Charlie', 28, 'Sales')\n",
    "inset_record(4, 'David', 35, 'Marketing')\n",
    "inset_record(5, 'Eve', 22, 'HR')"
   ]
  },
  {
   "cell_type": "code",
   "execution_count": 10,
   "metadata": {},
   "outputs": [
    {
     "name": "stdout",
     "output_type": "stream",
     "text": [
      "(1, 'john', 38, 'data science')\n",
      "(2, 'Bob', 25, 'Engineering')\n",
      "(3, 'Charlie', 28, 'Sales')\n",
      "(4, 'David', 35, 'Marketing')\n",
      "(5, 'Eve', 22, 'HR')\n"
     ]
    }
   ],
   "source": [
    "def display():\n",
    "    connection=sqlite3.connect('test.db')\n",
    "    cursor=connection.cursor()\n",
    "    cursor.execute('Select * from employees')\n",
    "    rows=cursor.fetchall()\n",
    "\n",
    "## print queried data\n",
    "    for row in rows:\n",
    "        print(row)\n",
    "\n",
    "display()        "
   ]
  },
  {
   "cell_type": "code",
   "execution_count": 18,
   "metadata": {},
   "outputs": [
    {
     "name": "stdout",
     "output_type": "stream",
     "text": [
      "all record successfull added\n"
     ]
    }
   ],
   "source": [
    "def insert_multipal_record(employees):\n",
    "    connection=sqlite3.connect('test.db')\n",
    "    cursor=connection.cursor()\n",
    "    try:\n",
    "        cursor.executemany('''\n",
    "         INSERT INTO  employees (id,name,age,dept) VALUES (?,?,?,?)\n",
    "         ''',employees)\n",
    "        connection.commit()\n",
    "        print(\"all record successfull added\")\n",
    "    except Exception as e:\n",
    "        connection.rollback()\n",
    "        print(\"erroe accured\")\n",
    "        print(e)\n",
    "    finally:\n",
    "        connection.close()\n",
    "\n",
    "\n",
    "employees=[\n",
    "    (6, 'Frank', 40, 'Finance'),\n",
    "    (7, 'Grace', 29, 'Engineering'),\n",
    "    (8, 'Hannah', 35, 'Marketing'),\n",
    "    (9, 'Ivan', 38, 'Sales'),\n",
    "   # (6, 'Jack', 45, 'HR') \n",
    "    ]\n",
    "\n",
    "insert_multipal_record(employees)"
   ]
  },
  {
   "cell_type": "code",
   "execution_count": 19,
   "metadata": {},
   "outputs": [
    {
     "name": "stdout",
     "output_type": "stream",
     "text": [
      "(1, 'john', 38, 'data science')\n",
      "(2, 'Bob', 25, 'Engineering')\n",
      "(3, 'Charlie', 28, 'Sales')\n",
      "(4, 'David', 35, 'Marketing')\n",
      "(5, 'Eve', 22, 'HR')\n",
      "(6, 'Frank', 40, 'Finance')\n",
      "(7, 'Grace', 29, 'Engineering')\n",
      "(8, 'Hannah', 35, 'Marketing')\n",
      "(9, 'Ivan', 38, 'Sales')\n"
     ]
    }
   ],
   "source": [
    "def display():\n",
    "    connection=sqlite3.connect('test.db')\n",
    "    cursor=connection.cursor()\n",
    "    cursor.execute('Select * from employees')\n",
    "    rows=cursor.fetchall()\n",
    "\n",
    "## print queried data\n",
    "    for row in rows:\n",
    "        print(row)\n",
    "\n",
    "display()        "
   ]
  },
  {
   "cell_type": "code",
   "execution_count": null,
   "metadata": {},
   "outputs": [],
   "source": []
  }
 ],
 "metadata": {
  "kernelspec": {
   "display_name": "Python 3",
   "language": "python",
   "name": "python3"
  },
  "language_info": {
   "codemirror_mode": {
    "name": "ipython",
    "version": 3
   },
   "file_extension": ".py",
   "mimetype": "text/x-python",
   "name": "python",
   "nbconvert_exporter": "python",
   "pygments_lexer": "ipython3",
   "version": "3.13.1"
  }
 },
 "nbformat": 4,
 "nbformat_minor": 2
}
